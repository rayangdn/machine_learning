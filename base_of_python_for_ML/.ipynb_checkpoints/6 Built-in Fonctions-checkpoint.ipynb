{
 "cells": [
  {
   "cell_type": "markdown",
   "id": "034f22c7",
   "metadata": {},
   "source": [
    "https://docs.python.org/3/library/functions.html\n",
    "répertoire de toutes les fonctions built-in\n"
   ]
  },
  {
   "cell_type": "markdown",
   "id": "572a01e4",
   "metadata": {},
   "source": [
    "### Les bases\n"
   ]
  },
  {
   "cell_type": "code",
   "execution_count": null,
   "id": "d14af3d0",
   "metadata": {},
   "outputs": [],
   "source": [
    "x = -3\n",
    "abs(x)\n",
    "x = 4.14\n",
    "round(x)"
   ]
  },
  {
   "cell_type": "markdown",
   "id": "bb012ed8",
   "metadata": {},
   "source": [
    "### Les plus utiles en Machine Learning :"
   ]
  },
  {
   "cell_type": "code",
   "execution_count": 1,
   "id": "fbc76ebe",
   "metadata": {},
   "outputs": [
    {
     "data": {
      "text/plain": [
       "True"
      ]
     },
     "execution_count": 1,
     "metadata": {},
     "output_type": "execute_result"
    }
   ],
   "source": [
    "liste_1 = [0, 23, 14, -19]\n",
    "max(liste_1)\n",
    "min(liste_1)\n",
    "len(liste_1)\n",
    "sum(liste_1)\n",
    "all(liste_1) #tous les éléments de la liste sont égales à true (pas de 0)\n",
    "any(liste_1) #au moins un élément est true"
   ]
  },
  {
   "cell_type": "markdown",
   "id": "156390b7",
   "metadata": {},
   "source": [
    "### Conversion"
   ]
  },
  {
   "cell_type": "code",
   "execution_count": 41,
   "id": "2523484a",
   "metadata": {},
   "outputs": [
    {
     "data": {
      "text/plain": [
       "[0, 61, 63, 243]"
      ]
     },
     "execution_count": 41,
     "metadata": {},
     "output_type": "execute_result"
    }
   ],
   "source": [
    "x = 10\n",
    "type(x) # retourne le type\n",
    "str(x) #transforme en caractère\n",
    "float(x) # transforme en décimale\n",
    "liste_2 = [0, 61, 63, 243]"
   ]
  },
  {
   "cell_type": "code",
   "execution_count": 3,
   "id": "c42e6f0b",
   "metadata": {},
   "outputs": [
    {
     "ename": "NameError",
     "evalue": "name 'liste_2' is not defined",
     "output_type": "error",
     "traceback": [
      "\u001b[0;31m---------------------------------------------------------------------------\u001b[0m",
      "\u001b[0;31mNameError\u001b[0m                                 Traceback (most recent call last)",
      "Input \u001b[0;32mIn [3]\u001b[0m, in \u001b[0;36m<cell line: 1>\u001b[0;34m()\u001b[0m\n\u001b[0;32m----> 1\u001b[0m \u001b[38;5;28mtuple\u001b[39m(\u001b[43mliste_2\u001b[49m) \u001b[38;5;66;03m#transforme en tuple\u001b[39;00m\n\u001b[1;32m      2\u001b[0m \u001b[38;5;28mlist\u001b[39m(liste_2)\n",
      "\u001b[0;31mNameError\u001b[0m: name 'liste_2' is not defined"
     ]
    }
   ],
   "source": [
    "tuple(liste_2) #transforme en tuple\n",
    "list(liste_2) #transforme en liste"
   ]
  },
  {
   "cell_type": "markdown",
   "id": "86b99d3f",
   "metadata": {},
   "source": [
    "### Input"
   ]
  },
  {
   "cell_type": "code",
   "execution_count": 4,
   "id": "a2817ad9",
   "metadata": {},
   "outputs": [
    {
     "name": "stdout",
     "output_type": "stream",
     "text": [
      "entrez un nombre10\n"
     ]
    }
   ],
   "source": [
    "x = int(input(\"entrez un nombre\")) #forcer un int"
   ]
  },
  {
   "cell_type": "markdown",
   "id": "d0ffd5c9",
   "metadata": {},
   "source": [
    "### Format"
   ]
  },
  {
   "cell_type": "code",
   "execution_count": 5,
   "id": "adf33f47",
   "metadata": {},
   "outputs": [
    {
     "name": "stdout",
     "output_type": "stream",
     "text": [
      "La température est de 25 degC à Paris. Il fait 25 DegC\n"
     ]
    }
   ],
   "source": [
    "x = 25\n",
    "ville = \"Paris\"\n",
    "message = f\"La température est de {x} degC à {ville}.\" #mettre des variables dans un message\n",
    "message_2 = \"Il fait {} DegC\".format(x)\n",
    "#2 ways\n",
    "print(message, message_2)"
   ]
  },
  {
   "cell_type": "markdown",
   "id": "e37e1d0b",
   "metadata": {},
   "source": [
    "### Open"
   ]
  },
  {
   "cell_type": "code",
   "execution_count": null,
   "id": "7023f834",
   "metadata": {},
   "outputs": [],
   "source": [
    "f = open(\"fichier.txt\", \"w\") #écrire dans le fichier\n",
    "f.write(\"bonjour\")\n",
    "f.close()"
   ]
  },
  {
   "cell_type": "code",
   "execution_count": 2,
   "id": "dc4f859b",
   "metadata": {},
   "outputs": [],
   "source": [
    "f = open(\"fichier.txt\", \"r\") #lire le fichier\n",
    "f.read()\n",
    "f.close()"
   ]
  },
  {
   "cell_type": "code",
   "execution_count": 3,
   "id": "50bddf39",
   "metadata": {},
   "outputs": [
    {
     "name": "stdout",
     "output_type": "stream",
     "text": [
      "bonjour\n"
     ]
    }
   ],
   "source": [
    "with open(\"fichier.txt\", \"r\") as f:\n",
    "    print(f.read()) #méthode qui ferme automatiquement le fichier\n",
    "    "
   ]
  },
  {
   "cell_type": "markdown",
   "id": "330b4076",
   "metadata": {},
   "source": [
    "# Exercice"
   ]
  },
  {
   "cell_type": "code",
   "execution_count": 6,
   "id": "1491938e",
   "metadata": {},
   "outputs": [
    {
     "data": {
      "text/plain": [
       "['0^2 = 0',\n",
       " '1^2 = 1',\n",
       " '2^2 = 4',\n",
       " '3^2 = 9',\n",
       " '4^2 = 16',\n",
       " '5^2 = 25',\n",
       " '6^2 = 36',\n",
       " '7^2 = 49',\n",
       " '8^2 = 64',\n",
       " '9^2 = 81']"
      ]
     },
     "execution_count": 6,
     "metadata": {},
     "output_type": "execute_result"
    }
   ],
   "source": [
    "with open(\"fichier1.txt\", \"w\") as f:\n",
    "    for i in range(10):\n",
    "        f.write(\"{}^2 = {}\\n\".format(i, i**2))\n",
    "with open(\"fichier1.txt\", \"r\") as f:\n",
    "    liste = f.read().splitlines() #chaque élement correspond à une ligne du fichier (sans le retour à la ligne)\n",
    "liste"
   ]
  },
  {
   "cell_type": "code",
   "execution_count": 7,
   "id": "f346905a",
   "metadata": {},
   "outputs": [],
   "source": [
    "villes = [\"Paris\",\"Berlin\",\"Londres\",\"Bruxelles\"]\n",
    "villes\n",
    "with open(\"villes.txt\", \"w\") as f:\n",
    "    for i in range(0,4):\n",
    "        f.write(\"{}\\n\".format(villes[i]))\n",
    "\n"
   ]
  }
 ],
 "metadata": {
  "kernelspec": {
   "display_name": "Python 3 (ipykernel)",
   "language": "python",
   "name": "python3"
  },
  "language_info": {
   "codemirror_mode": {
    "name": "ipython",
    "version": 3
   },
   "file_extension": ".py",
   "mimetype": "text/x-python",
   "name": "python",
   "nbconvert_exporter": "python",
   "pygments_lexer": "ipython3",
   "version": "3.9.12"
  }
 },
 "nbformat": 4,
 "nbformat_minor": 5
}
