{
 "cells": [
  {
   "cell_type": "markdown",
   "id": "1dee2e33",
   "metadata": {},
   "source": [
    "# Modules"
   ]
  },
  {
   "cell_type": "raw",
   "id": "259527aa",
   "metadata": {},
   "source": [
    "1 name_fichier as name_given\n",
    "2 from name_fichier import fonction_needed (* if we want to import all)\n",
    "1 name_given.name_fct\n",
    "2 fonction_needed"
   ]
  },
  {
   "cell_type": "markdown",
   "id": "11796324",
   "metadata": {},
   "source": [
    "# Packages\n",
    "https://docs.python.org/3/py-modindex.html\n"
   ]
  },
  {
   "cell_type": "code",
   "execution_count": 1,
   "id": "ad3a7075",
   "metadata": {},
   "outputs": [],
   "source": [
    "import math\n",
    "import random\n",
    "import statistics\n",
    "import os\n",
    "import glob"
   ]
  },
  {
   "cell_type": "markdown",
   "id": "952231bb",
   "metadata": {},
   "source": [
    "### Maths"
   ]
  },
  {
   "cell_type": "code",
   "execution_count": 2,
   "id": "ddcf1990",
   "metadata": {},
   "outputs": [
    {
     "data": {
      "text/plain": [
       "3.141592653589793"
      ]
     },
     "execution_count": 2,
     "metadata": {},
     "output_type": "execute_result"
    }
   ],
   "source": [
    "math.pi\n",
    "#..."
   ]
  },
  {
   "cell_type": "markdown",
   "id": "2677b447",
   "metadata": {},
   "source": [
    "### Statistics"
   ]
  },
  {
   "cell_type": "code",
   "execution_count": 4,
   "id": "0f0b0a01",
   "metadata": {},
   "outputs": [
    {
     "name": "stdout",
     "output_type": "stream",
     "text": [
      "35\n",
      "987\n"
     ]
    }
   ],
   "source": [
    "liste = [4,5,20,79,60,78,1,23,45]\n",
    "print(statistics.mean(liste))\n",
    "print(statistics.variance(liste))"
   ]
  },
  {
   "cell_type": "markdown",
   "id": "f9968202",
   "metadata": {},
   "source": [
    "### Random"
   ]
  },
  {
   "cell_type": "code",
   "execution_count": 5,
   "id": "3df6c013",
   "metadata": {},
   "outputs": [
    {
     "name": "stdout",
     "output_type": "stream",
     "text": [
      "1\n",
      "0.7579544029403025\n",
      "55\n",
      "0\n",
      "[33, 65, 62, 51, 38, 61, 45, 74, 27, 64]\n",
      "[36, 17]\n"
     ]
    },
    {
     "data": {
      "text/plain": [
       "[20, 4, 79, 45, 1, 78, 23, 60, 5]"
      ]
     },
     "execution_count": 5,
     "metadata": {},
     "output_type": "execute_result"
    }
   ],
   "source": [
    "random.seed(0) #contrôler l'aléatoire\n",
    "print(random.choice(liste))\n",
    "print(random.random()) #nbr entre 0-1\n",
    "print(random.randint(2,100)) #nbr entre 2 et 100 entier\n",
    "print(random.randrange(10)) #int\n",
    "print(random.sample(range(100), 10)) #créer une liste de 10 random\n",
    "print(random.sample(range(100), random.randrange(10)))\n",
    "random.shuffle(liste) #mélanger une liste\n",
    "liste"
   ]
  },
  {
   "cell_type": "markdown",
   "id": "b4e6dfbf",
   "metadata": {},
   "source": [
    "### Os"
   ]
  },
  {
   "cell_type": "code",
   "execution_count": 6,
   "id": "b799a05d",
   "metadata": {},
   "outputs": [
    {
     "data": {
      "text/plain": [
       "'/Users/rayan/Desktop/base of python for ML'"
      ]
     },
     "execution_count": 6,
     "metadata": {},
     "output_type": "execute_result"
    }
   ],
   "source": [
    "os.getcwd() #donne le répertoire de travail"
   ]
  },
  {
   "cell_type": "markdown",
   "id": "926a5d58",
   "metadata": {},
   "source": [
    "### Glob"
   ]
  },
  {
   "cell_type": "code",
   "execution_count": 7,
   "id": "bd47f804",
   "metadata": {},
   "outputs": [
    {
     "data": {
      "text/plain": [
       "['9 Numpy.ipynb',\n",
       " '6 Built-in Fonctions.ipynb',\n",
       " '4 Dictionnaires.ipynb',\n",
       " '10 Matplotlib.ipynb',\n",
       " '1 Variables et Fonctions.ipynb',\n",
       " '8 POO.ipynb',\n",
       " '2 If, While, For.ipynb',\n",
       " '11 Scipy.ipynb',\n",
       " '5 List, Dico compréhension.ipynb',\n",
       " '3 Listes et Tuples.ipynb',\n",
       " '7 Modules et Packages.ipynb']"
      ]
     },
     "execution_count": 7,
     "metadata": {},
     "output_type": "execute_result"
    }
   ],
   "source": [
    "glob.glob(\"*.ipynb\") #donne tous les fichiers dans le répertoire finissant par ipynb"
   ]
  },
  {
   "cell_type": "markdown",
   "id": "d7ea1abf",
   "metadata": {},
   "source": [
    "### Exercice"
   ]
  },
  {
   "cell_type": "code",
   "execution_count": 8,
   "id": "e185c38e",
   "metadata": {},
   "outputs": [
    {
     "data": {
      "text/plain": [
       "{'villes.txt': ['Paris', 'Berlin', 'Londres', 'Bruxelles'],\n",
       " 'fichier.txt': ['bonjour'],\n",
       " 'fichier1.txt': ['0^2 = 0',\n",
       "  '1^2 = 1',\n",
       "  '2^2 = 4',\n",
       "  '3^2 = 9',\n",
       "  '4^2 = 16',\n",
       "  '5^2 = 25',\n",
       "  '6^2 = 36',\n",
       "  '7^2 = 49',\n",
       "  '8^2 = 64',\n",
       "  '9^2 = 81']}"
      ]
     },
     "execution_count": 8,
     "metadata": {},
     "output_type": "execute_result"
    }
   ],
   "source": [
    "filenames = glob.glob(\"*.txt\")\n",
    "d = {}\n",
    "for file in filenames:\n",
    "    with open(file,\"r\") as f:\n",
    "        d[file] = f.read().splitlines()\n",
    "d"
   ]
  }
 ],
 "metadata": {
  "kernelspec": {
   "display_name": "Python 3 (ipykernel)",
   "language": "python",
   "name": "python3"
  },
  "language_info": {
   "codemirror_mode": {
    "name": "ipython",
    "version": 3
   },
   "file_extension": ".py",
   "mimetype": "text/x-python",
   "name": "python",
   "nbconvert_exporter": "python",
   "pygments_lexer": "ipython3",
   "version": "3.9.12"
  }
 },
 "nbformat": 4,
 "nbformat_minor": 5
}
