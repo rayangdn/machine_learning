{
 "cells": [
  {
   "cell_type": "markdown",
   "id": "b298a48b",
   "metadata": {},
   "source": [
    "# Dictionnaires"
   ]
  },
  {
   "cell_type": "code",
   "execution_count": 7,
   "id": "712cd963",
   "metadata": {},
   "outputs": [],
   "source": [
    "traduction = {\n",
    "    \"chien\": \"dog\",#Clef 1 : valeur\n",
    "    \"chat\":\"cat\",#Clef 2 : valeur\n",
    "    \"souris\": \"mouse\",\n",
    "    \"oiseau\" : \"bird\"\n",
    "} #pas deux fois la même clé !!!\n",
    "inventaire = {\n",
    "    \"bananes\": 5000,\n",
    "    \"pommes\": 2094,\n",
    "    \"poires\":4200,\n",
    "    \"cerises\": 2893\n",
    "}"
   ]
  },
  {
   "cell_type": "code",
   "execution_count": 8,
   "id": "95748235",
   "metadata": {},
   "outputs": [],
   "source": [
    "dictionnaire = { #association de dico\n",
    "    \"dict_1\": traduction,\n",
    "    \"dict_2\": inventaire\n",
    "}"
   ]
  },
  {
   "cell_type": "markdown",
   "id": "c8ad820f",
   "metadata": {},
   "source": [
    "## Fonctions de base\n"
   ]
  },
  {
   "cell_type": "code",
   "execution_count": 9,
   "id": "aaafaea3",
   "metadata": {},
   "outputs": [
    {
     "data": {
      "text/plain": [
       "dict_keys(['bananes', 'pommes', 'poires', 'cerises'])"
      ]
     },
     "execution_count": 9,
     "metadata": {},
     "output_type": "execute_result"
    }
   ],
   "source": [
    "inventaire.values() #valeurs du dico\n",
    "inventaire.keys() #clés du dico"
   ]
  },
  {
   "cell_type": "code",
   "execution_count": 10,
   "id": "4a6296eb",
   "metadata": {},
   "outputs": [],
   "source": [
    "len(inventaire) #longueur\n",
    "inventaire[\"abricots\"] = 4500 #ajouter une association à la fin du dico"
   ]
  },
  {
   "cell_type": "code",
   "execution_count": 11,
   "id": "2b93d8e9",
   "metadata": {},
   "outputs": [
    {
     "name": "stdout",
     "output_type": "stream",
     "text": [
      "default\n"
     ]
    }
   ],
   "source": [
    "print(inventaire.get(\"peches\", \"default\")) #rechercher une clé\n",
    "#si pas trouver, default est retourné ( none par défault)"
   ]
  },
  {
   "cell_type": "code",
   "execution_count": 12,
   "id": "ad667b2a",
   "metadata": {},
   "outputs": [
    {
     "data": {
      "text/plain": [
       "{'Paris': 100, 'Londres': 100, 'Bruxelles': 100}"
      ]
     },
     "execution_count": 12,
     "metadata": {},
     "output_type": "execute_result"
    }
   ],
   "source": [
    "liste_1=(\"Paris\",\"Londres\", \"Bruxelles\", )\n",
    "inventaire.fromkeys(liste_1,100) #créer un dico à partir d'une liste de clé\n",
    "#valeur par défaut de 100"
   ]
  },
  {
   "cell_type": "code",
   "execution_count": 13,
   "id": "b2fe63f0",
   "metadata": {},
   "outputs": [
    {
     "data": {
      "text/plain": [
       "2094"
      ]
     },
     "execution_count": 13,
     "metadata": {},
     "output_type": "execute_result"
    }
   ],
   "source": [
    "inventaire.pop(\"pommes\") # 1 retire l'association pommes\n",
    "# 2 extrait la valeur de pommes"
   ]
  },
  {
   "cell_type": "code",
   "execution_count": 14,
   "id": "f518d754",
   "metadata": {},
   "outputs": [
    {
     "name": "stdout",
     "output_type": "stream",
     "text": [
      "bananes 5000\n",
      "poires 4200\n",
      "cerises 2893\n",
      "abricots 4500\n"
     ]
    }
   ],
   "source": [
    "for k,v in inventaire.items(): #permet d'afficher les clés et les valeurs\n",
    "    print(k,v)"
   ]
  },
  {
   "cell_type": "markdown",
   "id": "ac791f34",
   "metadata": {},
   "source": [
    "# Exercice"
   ]
  },
  {
   "cell_type": "code",
   "execution_count": 15,
   "id": "3465e324",
   "metadata": {},
   "outputs": [],
   "source": [
    "classeur = {\n",
    "    \"positif\": [],\n",
    "    \"négatif\": []\n",
    "}"
   ]
  },
  {
   "cell_type": "code",
   "execution_count": 16,
   "id": "de72747e",
   "metadata": {},
   "outputs": [],
   "source": [
    "def trier(classeur, nombre):\n",
    "    if nombre < 0:\n",
    "        classeur[\"négatif\"].append(nombre)\n",
    "    else :\n",
    "        classeur[\"positif\"].append(nombre)\n",
    "    return classeur"
   ]
  },
  {
   "cell_type": "code",
   "execution_count": 17,
   "id": "66f137ef",
   "metadata": {},
   "outputs": [
    {
     "data": {
      "text/plain": [
       "{'positif': [8], 'négatif': []}"
      ]
     },
     "execution_count": 17,
     "metadata": {},
     "output_type": "execute_result"
    }
   ],
   "source": [
    "trier(classeur, 8)\n"
   ]
  }
 ],
 "metadata": {
  "kernelspec": {
   "display_name": "Python 3 (ipykernel)",
   "language": "python",
   "name": "python3"
  },
  "language_info": {
   "codemirror_mode": {
    "name": "ipython",
    "version": 3
   },
   "file_extension": ".py",
   "mimetype": "text/x-python",
   "name": "python",
   "nbconvert_exporter": "python",
   "pygments_lexer": "ipython3",
   "version": "3.9.12"
  }
 },
 "nbformat": 4,
 "nbformat_minor": 5
}
