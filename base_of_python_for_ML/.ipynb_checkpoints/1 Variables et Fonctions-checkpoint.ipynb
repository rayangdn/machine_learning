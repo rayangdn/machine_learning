{
 "cells": [
  {
   "cell_type": "markdown",
   "id": "b8fc507c",
   "metadata": {},
   "source": [
    "# Variables"
   ]
  },
  {
   "cell_type": "code",
   "execution_count": null,
   "id": "c2fac90e",
   "metadata": {},
   "outputs": [],
   "source": [
    "x = 1\n",
    "a = True\n",
    "print(x)"
   ]
  },
  {
   "cell_type": "code",
   "execution_count": 27,
   "id": "8a78102d",
   "metadata": {},
   "outputs": [],
   "source": [
    "#Fonctions\n",
    "def e_potentielle(masse, hauteur, g=9.81): #masse, etc sont les arguments\n",
    "    E = masse * hauteur * g\n",
    "    print(E, \"Joules\")\n",
    "    return E"
   ]
  },
  {
   "cell_type": "code",
   "execution_count": 28,
   "id": "d8c18b6a",
   "metadata": {},
   "outputs": [
    {
     "name": "stdout",
     "output_type": "stream",
     "text": [
      "3924.0 Joules\n",
      "3924.0\n"
     ]
    }
   ],
   "source": [
    "resultat = e_potentielle(masse=80, hauteur=5) #appel de fonctions\n",
    "print(resultat)"
   ]
  },
  {
   "cell_type": "markdown",
   "id": "3cb70fe7",
   "metadata": {},
   "source": [
    "# Exercice"
   ]
  },
  {
   "cell_type": "code",
   "execution_count": 1,
   "id": "eedadfa1",
   "metadata": {},
   "outputs": [],
   "source": [
    "def e_potentielle(masse, hauteur, e_limite, g=9.81):\n",
    "    E = masse * hauteur * g\n",
    "    if E <= e_limite:\n",
    "        print(E, \"est inférieur ou égale à\", e_limite)\n",
    "    else:\n",
    "        print(E, \"est supérieur à\", e_limite)\n"
   ]
  },
  {
   "cell_type": "code",
   "execution_count": 2,
   "id": "66f28cff",
   "metadata": {},
   "outputs": [
    {
     "name": "stdout",
     "output_type": "stream",
     "text": [
      "3924.0 est inférieur ou égale à 4000\n",
      "3924.0 est supérieur à 2000\n",
      "3924.0 est inférieur ou égale à 3924\n"
     ]
    }
   ],
   "source": [
    "e_potentielle(80, 5, 4000)\n",
    "e_potentielle(80, 5, 2000)\n",
    "e_potentielle(80, 5, 3924)"
   ]
  }
 ],
 "metadata": {
  "kernelspec": {
   "display_name": "Python 3 (ipykernel)",
   "language": "python",
   "name": "python3"
  },
  "language_info": {
   "codemirror_mode": {
    "name": "ipython",
    "version": 3
   },
   "file_extension": ".py",
   "mimetype": "text/x-python",
   "name": "python",
   "nbconvert_exporter": "python",
   "pygments_lexer": "ipython3",
   "version": "3.9.12"
  }
 },
 "nbformat": 4,
 "nbformat_minor": 5
}
