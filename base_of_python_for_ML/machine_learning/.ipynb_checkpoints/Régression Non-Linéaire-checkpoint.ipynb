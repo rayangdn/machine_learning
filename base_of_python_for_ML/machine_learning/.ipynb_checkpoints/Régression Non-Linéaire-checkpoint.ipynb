{
 "cells": [
  {
   "cell_type": "code",
   "execution_count": 1,
   "id": "8d23d6d2",
   "metadata": {},
   "outputs": [],
   "source": [
    "import numpy as np\n",
    "import matplotlib.pyplot as plt\n",
    "import numpy as np\n",
    "import matplotlib.pyplot as plt\n",
    "from sklearn.datasets import make_regression\n",
    "from sklearn.linear_model import SGDRegressor\n",
    "from sklearn.preprocessing import PolynomialFeatures\n"
   ]
  },
  {
   "cell_type": "code",
   "execution_count": 2,
   "id": "130e6724",
   "metadata": {},
   "outputs": [
    {
     "data": {
      "text/plain": [
       "(100, 2)"
      ]
     },
     "execution_count": 2,
     "metadata": {},
     "output_type": "execute_result"
    },
    {
     "data": {
      "image/png": "[encoded data removed]",
      "text/plain": [
       "<Figure size 432x288 with 1 Axes>"
      ]
     },
     "metadata": {
      "needs_background": "light"
     },
     "output_type": "display_data"
    }
   ],
   "source": [
    "# création du Dataset\n",
    "np.random.seed(0)\n",
    "x,y = make_regression(n_samples=100, n_features=1, noise=10)\n",
    "y=y**2 # y ne varie plus linéairement selon x !\n",
    "# On ajoute des variables polynômiales dans notre dataset\n",
    "poly_features = PolynomialFeatures(degree=2, include_bias=False)\n",
    "x = poly_features.fit_transform(x)\n",
    "plt.scatter(x[:,0], y)\n",
    "x.shape # la dimension de x: 100 lignes et 2 colonnes"
   ]
  },
  {
   "cell_type": "code",
   "execution_count": 4,
   "id": "6ef40778",
   "metadata": {},
   "outputs": [
    {
     "data": {
      "text/plain": [
       "SGDRegressor(eta0=0.001, max_iter=10000)"
      ]
     },
     "execution_count": 4,
     "metadata": {},
     "output_type": "execute_result"
    }
   ],
   "source": [
    "# On entraine le modele comme avant ! rien ne change !\n",
    "model = SGDRegressor(max_iter=10000, eta0=0.001)\n",
    "model.fit(x,y)\n",
    "print('Coeff R2 =', model.score(x, y))\n",
    "plt.scatter(x[:,0], y, marker='o')\n",
    "plt.scatter(x[:,0], model.predict(x), c='red', marker=\"+\")\n",
    "    "
   ]
  },
  {
   "cell_type": "code",
   "execution_count": null,
   "id": "9f77932b",
   "metadata": {},
   "outputs": [],
   "source": []
  }
 ],
 "metadata": {
  "kernelspec": {
   "display_name": "Python 3 (ipykernel)",
   "language": "python",
   "name": "python3"
  },
  "language_info": {
   "codemirror_mode": {
    "name": "ipython",
    "version": 3
   },
   "file_extension": ".py",
   "mimetype": "text/x-python",
   "name": "python",
   "nbconvert_exporter": "python",
   "pygments_lexer": "ipython3",
   "version": "3.9.12"
  }
 },
 "nbformat": 4,
 "nbformat_minor": 5
}
