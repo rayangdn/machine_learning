{
 "cells": [
  {
   "cell_type": "markdown",
   "id": "6ac3eb0b",
   "metadata": {},
   "source": [
    "# Listes"
   ]
  },
  {
   "cell_type": "code",
   "execution_count": 1,
   "id": "02c79961",
   "metadata": {},
   "outputs": [],
   "source": [
    "liste_1 = [1, 4, 2 ,7, 35, 27, 61, 52]\n",
    "villes = [\"Paris\",\"Berlin\",\"Londres\",\"Bruxelles\"]\n",
    "liste_2 = [liste_1, villes]\n",
    "liste_3 = []"
   ]
  },
  {
   "cell_type": "markdown",
   "id": "0cd249fe",
   "metadata": {},
   "source": [
    "# Tuples \n",
    "(pas de modifications possibles)\n"
   ]
  },
  {
   "cell_type": "code",
   "execution_count": null,
   "id": "4b3aa7c1",
   "metadata": {},
   "outputs": [],
   "source": [
    "tuple_1 = [1,2,6,7]"
   ]
  },
  {
   "cell_type": "markdown",
   "id": "b25a5ede",
   "metadata": {},
   "source": [
    "## Indexing"
   ]
  },
  {
   "cell_type": "code",
   "execution_count": 5,
   "id": "dd812cdd",
   "metadata": {},
   "outputs": [
    {
     "name": "stdout",
     "output_type": "stream",
     "text": [
      "Paris Berlin\n",
      "Bruxelles Londres\n",
      "['Paris', 'Berlin', 'Londres']\n",
      "['Paris', 'Londres']\n",
      "['Bruxelles', 'Londres', 'Berlin', 'Paris']\n"
     ]
    }
   ],
   "source": [
    "print(villes[0], villes[1]) #accéder élements\n",
    "print(villes[-1], villes[-2]) #accéder aux derniers élements\n",
    "print(villes[0:3:1]) #accéder à plusieurs élements (début. fin: pas)\n",
    "print(villes[::2])\n",
    "print(villes[::-1])"
   ]
  },
  {
   "cell_type": "markdown",
   "id": "c8309d02",
   "metadata": {},
   "source": [
    "## Actions avec les listes/tuples"
   ]
  },
  {
   "cell_type": "code",
   "execution_count": 6,
   "id": "53a85d85",
   "metadata": {},
   "outputs": [],
   "source": [
    "villes.append(\"Dublin\") #ajouter élement à la fin\n",
    "villes.insert(2, \"Madrid\") #ajouter élement à l'index 2"
   ]
  },
  {
   "cell_type": "code",
   "execution_count": 7,
   "id": "47aa16e0",
   "metadata": {},
   "outputs": [],
   "source": [
    "villes_2 = [\"Amsterdam\", \"Rome\"]\n",
    "villes.extend(villes_2) #ajouter liste à la fin"
   ]
  },
  {
   "cell_type": "code",
   "execution_count": 8,
   "id": "20b954d5",
   "metadata": {},
   "outputs": [
    {
     "data": {
      "text/plain": [
       "8"
      ]
     },
     "execution_count": 8,
     "metadata": {},
     "output_type": "execute_result"
    }
   ],
   "source": [
    "len(villes) #nbr élements dans liste"
   ]
  },
  {
   "cell_type": "code",
   "execution_count": 9,
   "id": "4487f8a1",
   "metadata": {},
   "outputs": [],
   "source": [
    "villes.sort() #ordre alphabétique\n",
    "villes.sort(reverse=True) #ordre inverse"
   ]
  },
  {
   "cell_type": "code",
   "execution_count": 10,
   "id": "18ba0eb4",
   "metadata": {},
   "outputs": [
    {
     "data": {
      "text/plain": [
       "1"
      ]
     },
     "execution_count": 10,
     "metadata": {},
     "output_type": "execute_result"
    }
   ],
   "source": [
    "villes.count(\"Paris\") #nbr de fois que l'élement apparaît"
   ]
  },
  {
   "cell_type": "code",
   "execution_count": 11,
   "id": "b4cb68b3",
   "metadata": {},
   "outputs": [
    {
     "name": "stdout",
     "output_type": "stream",
     "text": [
      "OUI\n"
     ]
    }
   ],
   "source": [
    "if \"Paris\" in villes:\n",
    "    print(\"OUI\")\n",
    "else:\n",
    "    print(\"NON\")\n",
    "    "
   ]
  },
  {
   "cell_type": "code",
   "execution_count": 12,
   "id": "dad777fa",
   "metadata": {
    "scrolled": true
   },
   "outputs": [
    {
     "name": "stdout",
     "output_type": "stream",
     "text": [
      "0 Rome\n",
      "1 Paris\n",
      "2 Madrid\n",
      "3 Londres\n",
      "4 Dublin\n",
      "5 Bruxelles\n",
      "6 Berlin\n",
      "7 Amsterdam\n"
     ]
    }
   ],
   "source": [
    "for i, v in  enumerate(villes):\n",
    "    print(i, v) # i = index, v = valeur"
   ]
  },
  {
   "cell_type": "code",
   "execution_count": 13,
   "id": "f8f32730",
   "metadata": {},
   "outputs": [
    {
     "name": "stdout",
     "output_type": "stream",
     "text": [
      "Rome 1\n",
      "Paris 4\n",
      "Madrid 2\n",
      "Londres 7\n",
      "Dublin 35\n",
      "Bruxelles 27\n",
      "Berlin 61\n",
      "Amsterdam 52\n"
     ]
    }
   ],
   "source": [
    "for a, b in zip(villes, liste_1): #assemble deux listes\n",
    "    print(a, b) #s'arrête à la liste la plus courte"
   ]
  },
  {
   "cell_type": "markdown",
   "id": "4103e3a0",
   "metadata": {},
   "source": [
    "# Exercice"
   ]
  },
  {
   "cell_type": "code",
   "execution_count": 15,
   "id": "b1f0d709",
   "metadata": {},
   "outputs": [
    {
     "name": "stdout",
     "output_type": "stream",
     "text": [
      "[0, 1, 1, 2, 3, 5, 8, 13, 21, 34, 55, 89, 144, 233, 377, 610, 987]\n"
     ]
    }
   ],
   "source": [
    "def fibonacci(n):\n",
    "    a=0\n",
    "    b=1\n",
    "    liste=[]\n",
    "    while a < n:\n",
    "        liste.append(a)\n",
    "        a,b = b, a+b\n",
    "    return liste\n",
    "print(fibonacci(1000))        "
   ]
  }
 ],
 "metadata": {
  "kernelspec": {
   "display_name": "Python 3 (ipykernel)",
   "language": "python",
   "name": "python3"
  },
  "language_info": {
   "codemirror_mode": {
    "name": "ipython",
    "version": 3
   },
   "file_extension": ".py",
   "mimetype": "text/x-python",
   "name": "python",
   "nbconvert_exporter": "python",
   "pygments_lexer": "ipython3",
   "version": "3.9.12"
  }
 },
 "nbformat": 4,
 "nbformat_minor": 5
}
