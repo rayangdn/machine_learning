{
 "cells": [
  {
   "cell_type": "markdown",
   "id": "811f8074",
   "metadata": {},
   "source": [
    "# Liste Compréhension"
   ]
  },
  {
   "cell_type": "code",
   "execution_count": 1,
   "id": "3fd1f10c",
   "metadata": {},
   "outputs": [
    {
     "data": {
      "text/plain": [
       "[0, 1, 4, 9, 16, 25, 36, 49, 64, 81]"
      ]
     },
     "execution_count": 1,
     "metadata": {},
     "output_type": "execute_result"
    }
   ],
   "source": [
    "liste_1 = [i**2 for i in range(10)] # tous les carrés de 0 à 9\n",
    "liste_1"
   ]
  },
  {
   "cell_type": "code",
   "execution_count": 2,
   "id": "c17166a4",
   "metadata": {},
   "outputs": [
    {
     "data": {
      "text/plain": [
       "[[0, 1, 2], [0, 1, 2], [0, 1, 2]]"
      ]
     },
     "execution_count": 2,
     "metadata": {},
     "output_type": "execute_result"
    }
   ],
   "source": [
    "liste_2 = [[i for i in range(3)] for j in range(3)] #liste dans une liste\n",
    "liste_2"
   ]
  },
  {
   "cell_type": "markdown",
   "id": "d912c9c1",
   "metadata": {},
   "source": [
    "# Dico Compréhension"
   ]
  },
  {
   "cell_type": "code",
   "execution_count": 3,
   "id": "01ebf28f",
   "metadata": {},
   "outputs": [],
   "source": [
    "dictionnaire = {\n",
    "    \"0\":\"Pierre\",\n",
    "    \"1\":\"Jean\",\n",
    "    \"2\":\"Julie\",\n",
    "    \"3\":\"Sophie\"\n",
    "}\n",
    "prenoms = [\"Pierre\", \"Jean\", \"Julie\", \"Sophie\"]"
   ]
  },
  {
   "cell_type": "code",
   "execution_count": 4,
   "id": "9a5da7d6",
   "metadata": {},
   "outputs": [
    {
     "data": {
      "text/plain": [
       "{0: 'Pierre', 1: 'Jean', 2: 'Julie', 3: 'Sophie'}"
      ]
     },
     "execution_count": 4,
     "metadata": {},
     "output_type": "execute_result"
    }
   ],
   "source": [
    "dico = {k:v for k,v in enumerate(prenoms)}\n",
    "dico"
   ]
  },
  {
   "cell_type": "code",
   "execution_count": 5,
   "id": "fb5a16db",
   "metadata": {},
   "outputs": [
    {
     "data": {
      "text/plain": [
       "{'Pierre': 24, 'Jean': 62, 'Julie': 10, 'Sophie': 23}"
      ]
     },
     "execution_count": 5,
     "metadata": {},
     "output_type": "execute_result"
    }
   ],
   "source": [
    "ages = [24, 62, 10, 23]\n",
    "dico_2 = {prenom:age for prenom, age in zip(prenoms, ages)}\n",
    "dico_2"
   ]
  },
  {
   "cell_type": "markdown",
   "id": "9ee42cb5",
   "metadata": {},
   "source": [
    "## Liste ou Dico compréhension"
   ]
  },
  {
   "cell_type": "code",
   "execution_count": 6,
   "id": "d0c15e0a",
   "metadata": {},
   "outputs": [
    {
     "data": {
      "text/plain": [
       "{'Pierre': 24, 'Jean': 62, 'Sophie': 23}"
      ]
     },
     "execution_count": 6,
     "metadata": {},
     "output_type": "execute_result"
    }
   ],
   "source": [
    "dico_2 = {prenom:age for prenom, age in zip(prenoms, ages) if age > 20}\n",
    "dico_2 #Ajouter des conditions"
   ]
  },
  {
   "cell_type": "markdown",
   "id": "9b5bb098",
   "metadata": {},
   "source": [
    "# Tuples Compréhension"
   ]
  },
  {
   "cell_type": "code",
   "execution_count": 7,
   "id": "404d41be",
   "metadata": {},
   "outputs": [
    {
     "data": {
      "text/plain": [
       "(0, 1, 4, 9, 16, 25, 36, 49, 64, 81)"
      ]
     },
     "execution_count": 7,
     "metadata": {},
     "output_type": "execute_result"
    }
   ],
   "source": [
    "tuple_1 = tuple(i**2 for i in range(10))\n",
    "tuple_1"
   ]
  },
  {
   "cell_type": "markdown",
   "id": "40dce0ed",
   "metadata": {},
   "source": [
    "# Exercice"
   ]
  },
  {
   "cell_type": "code",
   "execution_count": 8,
   "id": "0f1b15eb",
   "metadata": {},
   "outputs": [
    {
     "data": {
      "text/plain": [
       "{'0': 0,\n",
       " '1': 1,\n",
       " '2': 4,\n",
       " '3': 9,\n",
       " '4': 16,\n",
       " '5': 25,\n",
       " '6': 36,\n",
       " '7': 49,\n",
       " '8': 64,\n",
       " '9': 81,\n",
       " '10': 100,\n",
       " '11': 121,\n",
       " '12': 144,\n",
       " '13': 169,\n",
       " '14': 196,\n",
       " '15': 225,\n",
       " '16': 256,\n",
       " '17': 289,\n",
       " '18': 324,\n",
       " '19': 361}"
      ]
     },
     "execution_count": 8,
     "metadata": {},
     "output_type": "execute_result"
    }
   ],
   "source": [
    "dico = {str(k):k**2 for k in range(20) }\n",
    "dico"
   ]
  }
 ],
 "metadata": {
  "kernelspec": {
   "display_name": "Python 3 (ipykernel)",
   "language": "python",
   "name": "python3"
  },
  "language_info": {
   "codemirror_mode": {
    "name": "ipython",
    "version": 3
   },
   "file_extension": ".py",
   "mimetype": "text/x-python",
   "name": "python",
   "nbconvert_exporter": "python",
   "pygments_lexer": "ipython3",
   "version": "3.9.12"
  }
 },
 "nbformat": 4,
 "nbformat_minor": 5
}
