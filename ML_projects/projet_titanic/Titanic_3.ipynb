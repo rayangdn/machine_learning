{
 "cells": [
  {
   "cell_type": "markdown",
   "id": "cfb2f280",
   "metadata": {},
   "source": [
    "# Importing of Libraries\n",
    "## Importing of the core libraries"
   ]
  },
  {
   "cell_type": "code",
   "execution_count": 1,
   "id": "6907f590",
   "metadata": {},
   "outputs": [],
   "source": [
    "import pandas as pd\n",
    "import numpy as np\n",
    "import matplotlib.pyplot as plt\n",
    "import seaborn as sns\n",
    "import warnings\n",
    "warnings.filterwarnings('ignore') # Deleting of the warnings which we are not be interested in"
   ]
  },
  {
   "cell_type": "markdown",
   "id": "24ed22e7",
   "metadata": {},
   "source": [
    "## Importing of the metrics&encoding&split&preprocessing libraries"
   ]
  },
  {
   "cell_type": "code",
   "execution_count": 49,
   "id": "1ae487e6",
   "metadata": {},
   "outputs": [],
   "source": [
    "from sklearn.model_selection import cross_val_score\n",
    "from sklearn import preprocessing\n",
    "from sklearn.preprocessing import LabelEncoder\n",
    "from sklearn.model_selection import train_test_split\n",
    "from sklearn import metrics \n",
    "from sklearn.metrics import confusion_matrix "
   ]
  },
  {
   "cell_type": "markdown",
   "id": "8c084b88",
   "metadata": {},
   "source": [
    "## Importing of the machine learning algorithms"
   ]
  },
  {
   "cell_type": "code",
   "execution_count": 3,
   "id": "04ab8a42",
   "metadata": {},
   "outputs": [],
   "source": [
    "from sklearn.ensemble import RandomForestClassifier, AdaBoostClassifier, GradientBoostingClassifier, ExtraTreesClassifier, VotingClassifier\n",
    "from sklearn.linear_model import LogisticRegression\n",
    "from sklearn.neighbors import KNeighborsClassifier\n",
    "from sklearn.tree import DecisionTreeClassifier\n",
    "from sklearn.neural_network import MLPClassifier\n",
    "from sklearn.naive_bayes import GaussianNB\n",
    "from sklearn.svm import SVC\n",
    "from sklearn.model_selection import GridSearchCV, StratifiedKFold, learning_curve\n",
    "import xgboost as xgb"
   ]
  },
  {
   "cell_type": "markdown",
   "id": "3e624081",
   "metadata": {},
   "source": [
    "# First Look To Data"
   ]
  },
  {
   "cell_type": "code",
   "execution_count": 4,
   "id": "c4cee12b",
   "metadata": {},
   "outputs": [],
   "source": [
    "df_train = pd.read_csv(\"train.csv\")\n",
    "df_test = pd.read_csv(\"test.csv\")\n",
    "\n",
    "df_train = df_train.copy()\n",
    "df_test = df_test.copy()\n",
    "\n",
    "# Let's concatenate test and train datasets, because we'll do a lot feature engineering and we need to get same feature sizes of train and test datasets\n",
    "df_train_len = len(df_train)\n",
    "df = pd.concat([df_train,df_test],axis=0).reset_index(drop=True)"
   ]
  },
  {
   "cell_type": "markdown",
   "id": "222af2c4",
   "metadata": {},
   "source": [
    "## For Train Data"
   ]
  },
  {
   "cell_type": "code",
   "execution_count": 5,
   "id": "e91e094e",
   "metadata": {},
   "outputs": [
    {
     "name": "stdout",
     "output_type": "stream",
     "text": [
      "****************************** HEAD ******************************\n"
     ]
    },
    {
     "data": {
      "text/html": [
       "<div>\n",
       "<style scoped>\n",
       "    .dataframe tbody tr th:only-of-type {\n",
       "        vertical-align: middle;\n",
       "    }\n",
       "\n",
       "    .dataframe tbody tr th {\n",
       "        vertical-align: top;\n",
       "    }\n",
       "\n",
       "    .dataframe thead th {\n",
       "        text-align: right;\n",
       "    }\n",
       "</style>\n",
       "<table border=\"1\" class=\"dataframe\">\n",
       "  <thead>\n",
       "    <tr style=\"text-align: right;\">\n",
       "      <th></th>\n",
       "      <th>PassengerId</th>\n",
       "      <th>Survived</th>\n",
       "      <th>Pclass</th>\n",
       "      <th>Name</th>\n",
       "      <th>Sex</th>\n",
       "      <th>Age</th>\n",
       "      <th>SibSp</th>\n",
       "      <th>Parch</th>\n",
       "      <th>Ticket</th>\n",
       "      <th>Fare</th>\n",
       "      <th>Cabin</th>\n",
       "      <th>Embarked</th>\n",
       "    </tr>\n",
       "  </thead>\n",
       "  <tbody>\n",
       "    <tr>\n",
       "      <th>0</th>\n",
       "      <td>1</td>\n",
       "      <td>0.0</td>\n",
       "      <td>3</td>\n",
       "      <td>Braund, Mr. Owen Harris</td>\n",
       "      <td>male</td>\n",
       "      <td>22.0</td>\n",
       "      <td>1</td>\n",
       "      <td>0</td>\n",
       "      <td>A/5 21171</td>\n",
       "      <td>7.2500</td>\n",
       "      <td>NaN</td>\n",
       "      <td>S</td>\n",
       "    </tr>\n",
       "    <tr>\n",
       "      <th>1</th>\n",
       "      <td>2</td>\n",
       "      <td>1.0</td>\n",
       "      <td>1</td>\n",
       "      <td>Cumings, Mrs. John Bradley (Florence Briggs Th...</td>\n",
       "      <td>female</td>\n",
       "      <td>38.0</td>\n",
       "      <td>1</td>\n",
       "      <td>0</td>\n",
       "      <td>PC 17599</td>\n",
       "      <td>71.2833</td>\n",
       "      <td>C85</td>\n",
       "      <td>C</td>\n",
       "    </tr>\n",
       "    <tr>\n",
       "      <th>2</th>\n",
       "      <td>3</td>\n",
       "      <td>1.0</td>\n",
       "      <td>3</td>\n",
       "      <td>Heikkinen, Miss. Laina</td>\n",
       "      <td>female</td>\n",
       "      <td>26.0</td>\n",
       "      <td>0</td>\n",
       "      <td>0</td>\n",
       "      <td>STON/O2. 3101282</td>\n",
       "      <td>7.9250</td>\n",
       "      <td>NaN</td>\n",
       "      <td>S</td>\n",
       "    </tr>\n",
       "    <tr>\n",
       "      <th>3</th>\n",
       "      <td>4</td>\n",
       "      <td>1.0</td>\n",
       "      <td>1</td>\n",
       "      <td>Futrelle, Mrs. Jacques Heath (Lily May Peel)</td>\n",
       "      <td>female</td>\n",
       "      <td>35.0</td>\n",
       "      <td>1</td>\n",
       "      <td>0</td>\n",
       "      <td>113803</td>\n",
       "      <td>53.1000</td>\n",
       "      <td>C123</td>\n",
       "      <td>S</td>\n",
       "    </tr>\n",
       "    <tr>\n",
       "      <th>4</th>\n",
       "      <td>5</td>\n",
       "      <td>0.0</td>\n",
       "      <td>3</td>\n",
       "      <td>Allen, Mr. William Henry</td>\n",
       "      <td>male</td>\n",
       "      <td>35.0</td>\n",
       "      <td>0</td>\n",
       "      <td>0</td>\n",
       "      <td>373450</td>\n",
       "      <td>8.0500</td>\n",
       "      <td>NaN</td>\n",
       "      <td>S</td>\n",
       "    </tr>\n",
       "  </tbody>\n",
       "</table>\n",
       "</div>"
      ],
      "text/plain": [
       "   PassengerId  Survived  Pclass  \\\n",
       "0            1       0.0       3   \n",
       "1            2       1.0       1   \n",
       "2            3       1.0       3   \n",
       "3            4       1.0       1   \n",
       "4            5       0.0       3   \n",
       "\n",
       "                                                Name     Sex   Age  SibSp  \\\n",
       "0                            Braund, Mr. Owen Harris    male  22.0      1   \n",
       "1  Cumings, Mrs. John Bradley (Florence Briggs Th...  female  38.0      1   \n",
       "2                             Heikkinen, Miss. Laina  female  26.0      0   \n",
       "3       Futrelle, Mrs. Jacques Heath (Lily May Peel)  female  35.0      1   \n",
       "4                           Allen, Mr. William Henry    male  35.0      0   \n",
       "\n",
       "   Parch            Ticket     Fare Cabin Embarked  \n",
       "0      0         A/5 21171   7.2500   NaN        S  \n",
       "1      0          PC 17599  71.2833   C85        C  \n",
       "2      0  STON/O2. 3101282   7.9250   NaN        S  \n",
       "3      0            113803  53.1000  C123        S  \n",
       "4      0            373450   8.0500   NaN        S  "
      ]
     },
     "metadata": {},
     "output_type": "display_data"
    },
    {
     "name": "stdout",
     "output_type": "stream",
     "text": [
      "****************************** SHAPE ******************************\n",
      "Rows: 1309\n",
      "Columns: 12\n",
      "****************************** INFO ******************************\n",
      "<class 'pandas.core.frame.DataFrame'>\n",
      "RangeIndex: 1309 entries, 0 to 1308\n",
      "Data columns (total 12 columns):\n",
      " #   Column       Non-Null Count  Dtype  \n",
      "---  ------       --------------  -----  \n",
      " 0   PassengerId  1309 non-null   int64  \n",
      " 1   Survived     891 non-null    float64\n",
      " 2   Pclass       1309 non-null   int64  \n",
      " 3   Name         1309 non-null   object \n",
      " 4   Sex          1309 non-null   object \n",
      " 5   Age          1046 non-null   float64\n",
      " 6   SibSp        1309 non-null   int64  \n",
      " 7   Parch        1309 non-null   int64  \n",
      " 8   Ticket       1309 non-null   object \n",
      " 9   Fare         1308 non-null   float64\n",
      " 10  Cabin        295 non-null    object \n",
      " 11  Embarked     1307 non-null   object \n",
      "dtypes: float64(3), int64(4), object(5)\n",
      "memory usage: 122.8+ KB\n"
     ]
    },
    {
     "data": {
      "text/plain": [
       "None"
      ]
     },
     "metadata": {},
     "output_type": "display_data"
    },
    {
     "name": "stdout",
     "output_type": "stream",
     "text": [
      "****************************** DESCRIBE ******************************\n"
     ]
    },
    {
     "data": {
      "text/html": [
       "<div>\n",
       "<style scoped>\n",
       "    .dataframe tbody tr th:only-of-type {\n",
       "        vertical-align: middle;\n",
       "    }\n",
       "\n",
       "    .dataframe tbody tr th {\n",
       "        vertical-align: top;\n",
       "    }\n",
       "\n",
       "    .dataframe thead th {\n",
       "        text-align: right;\n",
       "    }\n",
       "</style>\n",
       "<table border=\"1\" class=\"dataframe\">\n",
       "  <thead>\n",
       "    <tr style=\"text-align: right;\">\n",
       "      <th></th>\n",
       "      <th>count</th>\n",
       "      <th>mean</th>\n",
       "      <th>std</th>\n",
       "      <th>min</th>\n",
       "      <th>25%</th>\n",
       "      <th>50%</th>\n",
       "      <th>75%</th>\n",
       "      <th>max</th>\n",
       "    </tr>\n",
       "  </thead>\n",
       "  <tbody>\n",
       "    <tr>\n",
       "      <th>PassengerId</th>\n",
       "      <td>1309.0</td>\n",
       "      <td>655.000000</td>\n",
       "      <td>378.020061</td>\n",
       "      <td>1.00</td>\n",
       "      <td>328.0000</td>\n",
       "      <td>655.0000</td>\n",
       "      <td>982.000</td>\n",
       "      <td>1309.0000</td>\n",
       "    </tr>\n",
       "    <tr>\n",
       "      <th>Survived</th>\n",
       "      <td>891.0</td>\n",
       "      <td>0.383838</td>\n",
       "      <td>0.486592</td>\n",
       "      <td>0.00</td>\n",
       "      <td>0.0000</td>\n",
       "      <td>0.0000</td>\n",
       "      <td>1.000</td>\n",
       "      <td>1.0000</td>\n",
       "    </tr>\n",
       "    <tr>\n",
       "      <th>Pclass</th>\n",
       "      <td>1309.0</td>\n",
       "      <td>2.294882</td>\n",
       "      <td>0.837836</td>\n",
       "      <td>1.00</td>\n",
       "      <td>2.0000</td>\n",
       "      <td>3.0000</td>\n",
       "      <td>3.000</td>\n",
       "      <td>3.0000</td>\n",
       "    </tr>\n",
       "    <tr>\n",
       "      <th>Age</th>\n",
       "      <td>1046.0</td>\n",
       "      <td>29.881138</td>\n",
       "      <td>14.413493</td>\n",
       "      <td>0.17</td>\n",
       "      <td>21.0000</td>\n",
       "      <td>28.0000</td>\n",
       "      <td>39.000</td>\n",
       "      <td>80.0000</td>\n",
       "    </tr>\n",
       "    <tr>\n",
       "      <th>SibSp</th>\n",
       "      <td>1309.0</td>\n",
       "      <td>0.498854</td>\n",
       "      <td>1.041658</td>\n",
       "      <td>0.00</td>\n",
       "      <td>0.0000</td>\n",
       "      <td>0.0000</td>\n",
       "      <td>1.000</td>\n",
       "      <td>8.0000</td>\n",
       "    </tr>\n",
       "    <tr>\n",
       "      <th>Parch</th>\n",
       "      <td>1309.0</td>\n",
       "      <td>0.385027</td>\n",
       "      <td>0.865560</td>\n",
       "      <td>0.00</td>\n",
       "      <td>0.0000</td>\n",
       "      <td>0.0000</td>\n",
       "      <td>0.000</td>\n",
       "      <td>9.0000</td>\n",
       "    </tr>\n",
       "    <tr>\n",
       "      <th>Fare</th>\n",
       "      <td>1308.0</td>\n",
       "      <td>33.295479</td>\n",
       "      <td>51.758668</td>\n",
       "      <td>0.00</td>\n",
       "      <td>7.8958</td>\n",
       "      <td>14.4542</td>\n",
       "      <td>31.275</td>\n",
       "      <td>512.3292</td>\n",
       "    </tr>\n",
       "  </tbody>\n",
       "</table>\n",
       "</div>"
      ],
      "text/plain": [
       "              count        mean         std   min       25%       50%  \\\n",
       "PassengerId  1309.0  655.000000  378.020061  1.00  328.0000  655.0000   \n",
       "Survived      891.0    0.383838    0.486592  0.00    0.0000    0.0000   \n",
       "Pclass       1309.0    2.294882    0.837836  1.00    2.0000    3.0000   \n",
       "Age          1046.0   29.881138   14.413493  0.17   21.0000   28.0000   \n",
       "SibSp        1309.0    0.498854    1.041658  0.00    0.0000    0.0000   \n",
       "Parch        1309.0    0.385027    0.865560  0.00    0.0000    0.0000   \n",
       "Fare         1308.0   33.295479   51.758668  0.00    7.8958   14.4542   \n",
       "\n",
       "                 75%        max  \n",
       "PassengerId  982.000  1309.0000  \n",
       "Survived       1.000     1.0000  \n",
       "Pclass         3.000     3.0000  \n",
       "Age           39.000    80.0000  \n",
       "SibSp          1.000     8.0000  \n",
       "Parch          0.000     9.0000  \n",
       "Fare          31.275   512.3292  "
      ]
     },
     "metadata": {},
     "output_type": "display_data"
    },
    {
     "name": "stdout",
     "output_type": "stream",
     "text": [
      "****************************** NULL? ******************************\n"
     ]
    },
    {
     "data": {
      "text/plain": [
       "PassengerId       0\n",
       "Survived        418\n",
       "Pclass            0\n",
       "Name              0\n",
       "Sex               0\n",
       "Age             263\n",
       "SibSp             0\n",
       "Parch             0\n",
       "Ticket            0\n",
       "Fare              1\n",
       "Cabin          1014\n",
       "Embarked          2\n",
       "dtype: int64"
      ]
     },
     "metadata": {},
     "output_type": "display_data"
    },
    {
     "name": "stdout",
     "output_type": "stream",
     "text": [
      "****************************** DUPLICATED ******************************\n"
     ]
    },
    {
     "data": {
      "text/plain": [
       "0"
      ]
     },
     "metadata": {},
     "output_type": "display_data"
    },
    {
     "name": "stdout",
     "output_type": "stream",
     "text": [
      "****************************** EXPLAINING ******************************\n"
     ]
    }
   ],
   "source": [
    "print(\"*\"*30, \"HEAD\", \"*\"*30)\n",
    "display(df.head(5))\n",
    "print(\"*\"*30, \"SHAPE\", \"*\"*30)\n",
    "print(f\"Rows: {df.shape[0]}\\nColumns: {df.shape[1]}\")\n",
    "print(\"*\"*30, \"INFO\", \"*\"*30)\n",
    "display(df.info())\n",
    "print(\"*\"*30, \"DESCRIBE\", \"*\"*30)\n",
    "display(df.describe().T)\n",
    "print(\"*\"*30, \"NULL?\", \"*\"*30)\n",
    "display(df.isnull().sum())\n",
    "print(\"*\"*30, \"DUPLICATED\", \"*\"*30)\n",
    "display(df.duplicated().sum())\n",
    "print(\"*\"*30, \"EXPLAINING\", \"*\"*30)"
   ]
  },
  {
   "cell_type": "markdown",
   "id": "81053185",
   "metadata": {},
   "source": [
    "**With the first look of the train data, we know:**\n",
    "- There are 1309 rows and 12 columns\n",
    "- There are \"5 int64\", \"5 object\", \"2 float\" columns\n",
    "- **5 columns have missing values** , **Age: 263, Cabin: 1014, Embarked: 2, Fare: 1 and Survived(But,Survived missing values correspond to the concatenate test-train datasets (Survived column doesn't exist in test set and has been replace by NaN values when concatenating the train and test set)**\n",
    "    - We need to handle with missing values, because **some machine learning algorithms don't know the modelling with the missing values** and missing values can cause the errors.\n",
    "- There are no duplicated values\n",
    "    - This is good, because **duplicated values cause the \"bias\"**. If there was a duplicated values, we need to handle with them also."
   ]
  },
  {
   "cell_type": "markdown",
   "id": "685f6c35",
   "metadata": {},
   "source": [
    "# Let's analyze all features by one by"
   ]
  },
  {
   "cell_type": "markdown",
   "id": "77c4c0a9",
   "metadata": {},
   "source": [
    "## Survived"
   ]
  },
  {
   "cell_type": "code",
   "execution_count": 6,
   "id": "792bbdbe",
   "metadata": {},
   "outputs": [
    {
     "data": {
      "image/png": "[encoded data removed]",
      "text/plain": [
       "<Figure size 1296x576 with 2 Axes>"
      ]
     },
     "metadata": {
      "needs_background": "light"
     },
     "output_type": "display_data"
    }
   ],
   "source": [
    "f,ax=plt.subplots(1,2,figsize=(18,8))\n",
    "df_train['Survived'].value_counts().plot.pie(autopct='%1.1f%%',ax=ax[0])\n",
    "ax[0].set_title('Survived')\n",
    "ax[0].set_ylabel('')\n",
    "sns.countplot('Survived',data=df_train,ax=ax[1], hue = \"Sex\")\n",
    "ax[1].set_title('Survived')\n",
    "plt.show()"
   ]
  },
  {
   "cell_type": "markdown",
   "id": "01f7174b",
   "metadata": {},
   "source": [
    "We can observe from the figures, there are %61,6 died and %38,4 survived people in train dataset"
   ]
  },
  {
   "cell_type": "markdown",
   "id": "37afb237",
   "metadata": {},
   "source": [
    "## Sex"
   ]
  },
  {
   "cell_type": "code",
   "execution_count": 7,
   "id": "656b1e77",
   "metadata": {},
   "outputs": [
    {
     "data": {
      "text/html": [
       "<div>\n",
       "<style scoped>\n",
       "    .dataframe tbody tr th:only-of-type {\n",
       "        vertical-align: middle;\n",
       "    }\n",
       "\n",
       "    .dataframe tbody tr th {\n",
       "        vertical-align: top;\n",
       "    }\n",
       "\n",
       "    .dataframe thead th {\n",
       "        text-align: right;\n",
       "    }\n",
       "</style>\n",
       "<table border=\"1\" class=\"dataframe\">\n",
       "  <thead>\n",
       "    <tr style=\"text-align: right;\">\n",
       "      <th>Survived</th>\n",
       "      <th>0.0</th>\n",
       "      <th>1.0</th>\n",
       "      <th>All</th>\n",
       "    </tr>\n",
       "    <tr>\n",
       "      <th>Sex</th>\n",
       "      <th></th>\n",
       "      <th></th>\n",
       "      <th></th>\n",
       "    </tr>\n",
       "  </thead>\n",
       "  <tbody>\n",
       "    <tr>\n",
       "      <th>female</th>\n",
       "      <td>81</td>\n",
       "      <td>233</td>\n",
       "      <td>314</td>\n",
       "    </tr>\n",
       "    <tr>\n",
       "      <th>male</th>\n",
       "      <td>468</td>\n",
       "      <td>109</td>\n",
       "      <td>577</td>\n",
       "    </tr>\n",
       "    <tr>\n",
       "      <th>All</th>\n",
       "      <td>549</td>\n",
       "      <td>342</td>\n",
       "      <td>891</td>\n",
       "    </tr>\n",
       "  </tbody>\n",
       "</table>\n",
       "</div>"
      ],
      "text/plain": [
       "Survived  0.0  1.0  All\n",
       "Sex                    \n",
       "female     81  233  314\n",
       "male      468  109  577\n",
       "All       549  342  891"
      ]
     },
     "execution_count": 7,
     "metadata": {},
     "output_type": "execute_result"
    }
   ],
   "source": [
    "pd.crosstab(df.Sex, df.Survived, margins=True)"
   ]
  },
  {
   "cell_type": "code",
   "execution_count": 8,
   "id": "172c029e",
   "metadata": {},
   "outputs": [
    {
     "name": "stdout",
     "output_type": "stream",
     "text": [
      "Percentage of survived females: 74.20382165605095\n",
      "Percentage of survived males: 18.890814558058924\n"
     ]
    }
   ],
   "source": [
    "female_survived_percentage = (233/314)*100\n",
    "print(f\"Percentage of survived females: {female_survived_percentage}\")\n",
    "male_survived_percentage = (109/577)*100\n",
    "print(f\"Percentage of survived males: {male_survived_percentage}\")"
   ]
  },
  {
   "cell_type": "markdown",
   "id": "3287a768",
   "metadata": {},
   "source": [
    "From the crosstab, we can say the females had chance to live much more than the males. According to the percantage values, we can easily see that.\n",
    "But, will we see the importance of the \"Sex\" feature in machine learning algorithms? Let's see at the end."
   ]
  },
  {
   "cell_type": "markdown",
   "id": "7855b5b2",
   "metadata": {},
   "source": [
    "## PCLASS"
   ]
  },
  {
   "cell_type": "code",
   "execution_count": 9,
   "id": "cbc6ee58",
   "metadata": {},
   "outputs": [
    {
     "data": {
      "text/html": [
       "<div>\n",
       "<style scoped>\n",
       "    .dataframe tbody tr th:only-of-type {\n",
       "        vertical-align: middle;\n",
       "    }\n",
       "\n",
       "    .dataframe tbody tr th {\n",
       "        vertical-align: top;\n",
       "    }\n",
       "\n",
       "    .dataframe thead th {\n",
       "        text-align: right;\n",
       "    }\n",
       "</style>\n",
       "<table border=\"1\" class=\"dataframe\">\n",
       "  <thead>\n",
       "    <tr style=\"text-align: right;\">\n",
       "      <th></th>\n",
       "      <th>Survived</th>\n",
       "    </tr>\n",
       "    <tr>\n",
       "      <th>Pclass</th>\n",
       "      <th></th>\n",
       "    </tr>\n",
       "  </thead>\n",
       "  <tbody>\n",
       "    <tr>\n",
       "      <th>1</th>\n",
       "      <td>136</td>\n",
       "    </tr>\n",
       "    <tr>\n",
       "      <th>2</th>\n",
       "      <td>87</td>\n",
       "    </tr>\n",
       "    <tr>\n",
       "      <th>3</th>\n",
       "      <td>119</td>\n",
       "    </tr>\n",
       "  </tbody>\n",
       "</table>\n",
       "</div>"
      ],
      "text/plain": [
       "        Survived\n",
       "Pclass          \n",
       "1            136\n",
       "2             87\n",
       "3            119"
      ]
     },
     "metadata": {},
     "output_type": "display_data"
    },
    {
     "data": {
      "text/plain": [
       "Text(0.5, 1.0, 'Pclass:Survived vs Dead')"
      ]
     },
     "execution_count": 9,
     "metadata": {},
     "output_type": "execute_result"
    },
    {
     "data": {
      "image/png": "[encoded data removed]",
      "text/plain": [
       "<Figure size 1296x576 with 2 Axes>"
      ]
     },
     "metadata": {
      "needs_background": "light"
     },
     "output_type": "display_data"
    }
   ],
   "source": [
    "display(df_train.groupby(\"Pclass\")[[\"Survived\"]].sum())\n",
    "plt.figure(figsize=(18,8))\n",
    "plt.subplot(1,2,1)\n",
    "sns.countplot(x='Pclass',data=df_train)\n",
    "plt.title('Number Of Passengers By Pclass')\n",
    "\n",
    "plt.subplot(1,2,2)\n",
    "sns.countplot(x='Pclass',hue='Survived',data=df_train)\n",
    "plt.title('Pclass:Survived vs Dead')"
   ]
  },
  {
   "cell_type": "markdown",
   "id": "615c0113",
   "metadata": {},
   "source": [
    "From these numbers and the plot, we can see the most survived number is in the first class, then third and last one is second class.\n",
    "\n",
    "In addition we can see from the first plot, there are the most people in ship from the third class.\n",
    "\n",
    "Let's examine this feature deep into"
   ]
  },
  {
   "cell_type": "code",
   "execution_count": 10,
   "id": "7a83dbc3",
   "metadata": {},
   "outputs": [
    {
     "data": {
      "text/plain": [
       "<AxesSubplot:xlabel='Sex,Survived'>"
      ]
     },
     "execution_count": 10,
     "metadata": {},
     "output_type": "execute_result"
    },
    {
     "data": {
      "image/png": "[encoded data removed]",
      "text/plain": [
       "<Figure size 720x360 with 1 Axes>"
      ]
     },
     "metadata": {
      "needs_background": "light"
     },
     "output_type": "display_data"
    }
   ],
   "source": [
    "pd.crosstab([df_train.Sex,df_train.Survived],df_train.Pclass).plot.bar(stacked=True, figsize=(10,5))"
   ]
  },
  {
   "cell_type": "markdown",
   "id": "34be85b1",
   "metadata": {},
   "source": [
    "When we look at the stacked bar plot:\n",
    "\n",
    "  - **The most died people in \"Pclass 3\" for females and in \"Pclass 1\" there are only 3 women died.**\n",
    "  - **Also, the most died people in \"Pclass 3\" for males.**\n",
    "    \n",
    "In titanic, people with \"Pclass 3\" were much more than others. So, we expect to the most died people in there. But, we need to look at the percentage of each Pclass to explain correctly."
   ]
  },
  {
   "cell_type": "code",
   "execution_count": 11,
   "id": "51dc3a37",
   "metadata": {},
   "outputs": [
    {
     "data": {
      "text/html": [
       "<div>\n",
       "<style scoped>\n",
       "    .dataframe tbody tr th:only-of-type {\n",
       "        vertical-align: middle;\n",
       "    }\n",
       "\n",
       "    .dataframe tbody tr th {\n",
       "        vertical-align: top;\n",
       "    }\n",
       "\n",
       "    .dataframe thead th {\n",
       "        text-align: right;\n",
       "    }\n",
       "</style>\n",
       "<table border=\"1\" class=\"dataframe\">\n",
       "  <thead>\n",
       "    <tr style=\"text-align: right;\">\n",
       "      <th></th>\n",
       "      <th>Percentages</th>\n",
       "    </tr>\n",
       "  </thead>\n",
       "  <tbody>\n",
       "    <tr>\n",
       "      <th>Survived females</th>\n",
       "      <td>[[Pclass1, 96.80851063829788], [Pclass2, 92.10526315789474], [Pclass3, 50.0]]</td>\n",
       "    </tr>\n",
       "    <tr>\n",
       "      <th>Survived males</th>\n",
       "      <td>[[Pclass1, 36.885245901639344], [Pclass2, 15.740740740740748], [Pclass3, 13.544668587896254]]</td>\n",
       "    </tr>\n",
       "  </tbody>\n",
       "</table>\n",
       "</div>"
      ],
      "text/plain": [
       "                                                                                                    Percentages\n",
       "Survived females                  [[Pclass1, 96.80851063829788], [Pclass2, 92.10526315789474], [Pclass3, 50.0]]\n",
       "Survived males    [[Pclass1, 36.885245901639344], [Pclass2, 15.740740740740748], [Pclass3, 13.544668587896254]]"
      ]
     },
     "metadata": {},
     "output_type": "display_data"
    }
   ],
   "source": [
    "pd.set_option('display.max_columns', None)  \n",
    "pd.set_option('display.max_rows', None) \n",
    "pd.set_option('display.max_colwidth', None)\n",
    "percentage_list1 = []\n",
    "percentage_list2 = []\n",
    "percentage_dict = {\"Percentages\": {\"Survived females\": percentage_list1, \"Survived males\": percentage_list2 } }\n",
    "\n",
    "for i in range(1,4):\n",
    "    df_female_all = df_train.query(f'Pclass == {i} & Sex == \"female\"')\n",
    "    f_all = df_female_all[\"Survived\"].count()\n",
    "    df_female_survived = df_train.query(f'Pclass == {i} & Survived == 0 & Sex == \"female\"')\n",
    "    f_survived = df_female_survived[\"Survived\"].count()\n",
    "    percentage_f = 100-((f_survived/f_all)*100)\n",
    "    percentage_list1.append([f\"Pclass{i}\",percentage_f])\n",
    "for i in range(1,4):\n",
    "    df_male_all = df_train.query(f'Pclass == {i} & Sex == \"male\"')\n",
    "    m_all = df_male_all[\"Survived\"].count()\n",
    "    df_male_survived = df_train.query(f'Pclass == {i} & Survived == 0 & Sex == \"male\"')\n",
    "    m_survived = df_male_survived[\"Survived\"].count()\n",
    "    percentage_m = 100-((m_survived/m_all)*100)\n",
    "    percentage_list2.append([f\"Pclass{i}\",percentage_m])\n",
    "              \n",
    "table = pd.DataFrame(percentage_dict)               \n",
    "display(table)    "
   ]
  },
  {
   "cell_type": "markdown",
   "id": "1cfe5a24",
   "metadata": {},
   "source": [
    "We can see the number of died and survived counts from the crosstab, but we need to fast looking of the percentages, because of that I made a simply code to see survived percentages.\n",
    "\n",
    "**According to the percentages which can be seen from above table, \"Survived\" percentages P1>P2>P3 for both females and males.**\n",
    "\n",
    "***It can be seen that, upper socio economic status had high order in survived.***\n",
    "\n",
    "Let's look at the correlation between the Pclass and Survived features."
   ]
  },
  {
   "cell_type": "code",
   "execution_count": 12,
   "id": "64274beb",
   "metadata": {},
   "outputs": [
    {
     "data": {
      "text/html": [
       "<div>\n",
       "<style scoped>\n",
       "    .dataframe tbody tr th:only-of-type {\n",
       "        vertical-align: middle;\n",
       "    }\n",
       "\n",
       "    .dataframe tbody tr th {\n",
       "        vertical-align: top;\n",
       "    }\n",
       "\n",
       "    .dataframe thead th {\n",
       "        text-align: right;\n",
       "    }\n",
       "</style>\n",
       "<table border=\"1\" class=\"dataframe\">\n",
       "  <thead>\n",
       "    <tr style=\"text-align: right;\">\n",
       "      <th></th>\n",
       "      <th>Pclass</th>\n",
       "      <th>Survived</th>\n",
       "    </tr>\n",
       "  </thead>\n",
       "  <tbody>\n",
       "    <tr>\n",
       "      <th>Pclass</th>\n",
       "      <td>1.000000</td>\n",
       "      <td>-0.338481</td>\n",
       "    </tr>\n",
       "    <tr>\n",
       "      <th>Survived</th>\n",
       "      <td>-0.338481</td>\n",
       "      <td>1.000000</td>\n",
       "    </tr>\n",
       "  </tbody>\n",
       "</table>\n",
       "</div>"
      ],
      "text/plain": [
       "            Pclass  Survived\n",
       "Pclass    1.000000 -0.338481\n",
       "Survived -0.338481  1.000000"
      ]
     },
     "metadata": {},
     "output_type": "display_data"
    }
   ],
   "source": [
    "df_pclass = df_train[[\"Pclass\", \"Survived\"]]\n",
    "display(df_pclass.corr())"
   ]
  },
  {
   "cell_type": "markdown",
   "id": "e1a3b5c0",
   "metadata": {},
   "source": [
    "#### **Explaining of the correlation:**\n",
    "- Correlation helps us to compare two variable.\n",
    "- Correleation takes values in range of -1 and 1\n",
    "- If we get -1, we have strong correlation in opposite direction. Well, while one variable is increasing, the other one is decreasing.\n",
    "- If we get 1, we have strong correlation in the same direction. Well, while one variable is increasing, the other one is increasing also.\n",
    "- Lastly, If we get 0, we have no correlation between two variables.\n",
    "    \n"
   ]
  },
  {
   "cell_type": "markdown",
   "id": "bd26721e",
   "metadata": {},
   "source": [
    "According to the correlation coefficient(-0.33) between the Pclass and Survived features. We can say there is a \"weak correlation\".\n",
    "\n",
    "**Observation**: After the all analysis, Pclass feature looks important but not too much."
   ]
  },
  {
   "cell_type": "markdown",
   "id": "e0591123",
   "metadata": {},
   "source": [
    "## AGE "
   ]
  },
  {
   "cell_type": "code",
   "execution_count": 13,
   "id": "02039e0d",
   "metadata": {},
   "outputs": [
    {
     "data": {
      "text/html": [
       "<div>\n",
       "<style scoped>\n",
       "    .dataframe tbody tr th:only-of-type {\n",
       "        vertical-align: middle;\n",
       "    }\n",
       "\n",
       "    .dataframe tbody tr th {\n",
       "        vertical-align: top;\n",
       "    }\n",
       "\n",
       "    .dataframe thead th {\n",
       "        text-align: right;\n",
       "    }\n",
       "</style>\n",
       "<table border=\"1\" class=\"dataframe\">\n",
       "  <thead>\n",
       "    <tr style=\"text-align: right;\">\n",
       "      <th></th>\n",
       "      <th>count</th>\n",
       "      <th>mean</th>\n",
       "      <th>std</th>\n",
       "      <th>min</th>\n",
       "      <th>25%</th>\n",
       "      <th>50%</th>\n",
       "      <th>75%</th>\n",
       "      <th>max</th>\n",
       "    </tr>\n",
       "  </thead>\n",
       "  <tbody>\n",
       "    <tr>\n",
       "      <th>Age</th>\n",
       "      <td>714.0</td>\n",
       "      <td>29.699118</td>\n",
       "      <td>14.526497</td>\n",
       "      <td>0.42</td>\n",
       "      <td>20.125</td>\n",
       "      <td>28.0</td>\n",
       "      <td>38.0</td>\n",
       "      <td>80.0</td>\n",
       "    </tr>\n",
       "  </tbody>\n",
       "</table>\n",
       "</div>"
      ],
      "text/plain": [
       "     count       mean        std   min     25%   50%   75%   max\n",
       "Age  714.0  29.699118  14.526497  0.42  20.125  28.0  38.0  80.0"
      ]
     },
     "metadata": {},
     "output_type": "display_data"
    },
    {
     "data": {
      "text/plain": [
       "<seaborn.axisgrid.FacetGrid at 0x7fde4792dd60>"
      ]
     },
     "execution_count": 13,
     "metadata": {},
     "output_type": "execute_result"
    },
    {
     "data": {
      "image/png": "[encoded data removed]",
      "text/plain": [
       "<Figure size 360x360 with 1 Axes>"
      ]
     },
     "metadata": {
      "needs_background": "light"
     },
     "output_type": "display_data"
    }
   ],
   "source": [
    "display(df_train[[\"Age\"]].describe().T)\n",
    "sns.displot(data=df_train, x=\"Age\",kind=\"kde\")"
   ]
  },
  {
   "cell_type": "code",
   "execution_count": 14,
   "id": "136bb2e9",
   "metadata": {},
   "outputs": [
    {
     "data": {
      "image/png": "[encoded data removed]",
      "text/plain": [
       "<Figure size 432x216 with 2 Axes>"
      ]
     },
     "metadata": {
      "needs_background": "light"
     },
     "output_type": "display_data"
    }
   ],
   "source": [
    "g = sns.FacetGrid(df_train, col = \"Survived\")\n",
    "g.map(sns.histplot, \"Age\", bins = 20)\n",
    "plt.show()"
   ]
  },
  {
   "cell_type": "markdown",
   "id": "5945b13a",
   "metadata": {},
   "source": [
    "- Age <= 10 has a high survival rate,\n",
    "- Oldest passenger(80) in the ship survived,\n",
    "- Large number of around 20 years old did not survive,\n",
    "- Most passengers are in 15-35 age range,"
   ]
  },
  {
   "cell_type": "code",
   "execution_count": 15,
   "id": "a7dd3cac",
   "metadata": {},
   "outputs": [
    {
     "data": {
      "image/png": "[encoded data removed]",
      "text/plain": [
       "<Figure size 648x216 with 3 Axes>"
      ]
     },
     "metadata": {
      "needs_background": "light"
     },
     "output_type": "display_data"
    }
   ],
   "source": [
    "g = sns.FacetGrid(df_train, col = \"Pclass\")\n",
    "g.map(sns.histplot, \"Age\", bins = 20)\n",
    "plt.show()"
   ]
  },
  {
   "cell_type": "markdown",
   "id": "71c3cc01",
   "metadata": {},
   "source": [
    "It can be easily seen, \n",
    "- The majority of the elderly(>50) population on ship is in \"Pclass1\"\n",
    "- The majority of the younger(<35) population is in \"Pclass3\"."
   ]
  },
  {
   "cell_type": "markdown",
   "id": "1943b603",
   "metadata": {},
   "source": [
    "**Observation**: Age feature looks like a important feature, and we should remember there was a missing values. I'll handle with the missing values in feature engineering part."
   ]
  },
  {
   "cell_type": "markdown",
   "id": "0ea81cea",
   "metadata": {},
   "source": [
    "## Embarked"
   ]
  },
  {
   "cell_type": "markdown",
   "id": "7c277417",
   "metadata": {},
   "source": [
    "Port of Embarkation: C = Cherbourg, Q = Queenstown, S = Southampton\n",
    "\n"
   ]
  },
  {
   "cell_type": "code",
   "execution_count": 16,
   "id": "da57b192",
   "metadata": {},
   "outputs": [
    {
     "data": {
      "text/plain": [
       "<seaborn.axisgrid.FacetGrid at 0x7fde48627580>"
      ]
     },
     "execution_count": 16,
     "metadata": {},
     "output_type": "execute_result"
    },
    {
     "data": {
      "image/png": "[encoded data removed]",
      "text/plain": [
       "<Figure size 430.5x360 with 1 Axes>"
      ]
     },
     "metadata": {
      "needs_background": "light"
     },
     "output_type": "display_data"
    }
   ],
   "source": [
    "sns.displot(data=df_train, x=\"Embarked\", hue=\"Sex\")"
   ]
  },
  {
   "cell_type": "markdown",
   "id": "722608cd",
   "metadata": {},
   "source": [
    "- Most people get in ship from Southampton and lowest people from Queenstown\n",
    "- From the Queenstown, most people are female."
   ]
  },
  {
   "cell_type": "code",
   "execution_count": 17,
   "id": "790b35bd",
   "metadata": {},
   "outputs": [
    {
     "data": {
      "text/plain": [
       "<seaborn.axisgrid.FacetGrid at 0x7fde487dc5e0>"
      ]
     },
     "execution_count": 17,
     "metadata": {},
     "output_type": "execute_result"
    },
    {
     "data": {
      "text/plain": [
       "<Figure size 864x576 with 0 Axes>"
      ]
     },
     "metadata": {},
     "output_type": "display_data"
    },
    {
     "data": {
      "image/png": "[encoded data removed]",
      "text/plain": [
       "<Figure size 360x360 with 1 Axes>"
      ]
     },
     "metadata": {
      "needs_background": "light"
     },
     "output_type": "display_data"
    }
   ],
   "source": [
    "plt.figure(figsize=(12,8))\n",
    "sns.factorplot('Embarked','Survived',data=df_train, palette = \"inferno\")"
   ]
  },
  {
   "cell_type": "markdown",
   "id": "5535e035",
   "metadata": {},
   "source": [
    "Survival rate order according to the port of embarkation is, Cherbourg>Queenstown>Southampton"
   ]
  },
  {
   "cell_type": "code",
   "execution_count": 18,
   "id": "733dc9d0",
   "metadata": {},
   "outputs": [
    {
     "data": {
      "text/plain": [
       "<seaborn.axisgrid.FacetGrid at 0x7fde46a58a30>"
      ]
     },
     "execution_count": 18,
     "metadata": {},
     "output_type": "execute_result"
    },
    {
     "data": {
      "image/png": "[encoded data removed]",
      "text/plain": [
       "<Figure size 1150.5x360 with 3 Axes>"
      ]
     },
     "metadata": {
      "needs_background": "light"
     },
     "output_type": "display_data"
    }
   ],
   "source": [
    "sns.factorplot('Pclass','Survived',hue='Sex',col='Embarked',data=df_train, palette = \"inferno\")\n"
   ]
  },
  {
   "cell_type": "markdown",
   "id": "c1df4332",
   "metadata": {},
   "source": [
    "- As we examined before, Pclass 3 survival rate is very low.\n",
    "- For port Q, males survival rate is unfortuanetely very low for each Pclass\n",
    "- For port S, Pclass 3 survival rate is low"
   ]
  },
  {
   "cell_type": "markdown",
   "id": "875177e4",
   "metadata": {},
   "source": [
    "## Fare"
   ]
  },
  {
   "cell_type": "code",
   "execution_count": 19,
   "id": "9e018ded",
   "metadata": {},
   "outputs": [
    {
     "data": {
      "text/html": [
       "<div>\n",
       "<style scoped>\n",
       "    .dataframe tbody tr th:only-of-type {\n",
       "        vertical-align: middle;\n",
       "    }\n",
       "\n",
       "    .dataframe tbody tr th {\n",
       "        vertical-align: top;\n",
       "    }\n",
       "\n",
       "    .dataframe thead th {\n",
       "        text-align: right;\n",
       "    }\n",
       "</style>\n",
       "<table border=\"1\" class=\"dataframe\">\n",
       "  <thead>\n",
       "    <tr style=\"text-align: right;\">\n",
       "      <th></th>\n",
       "      <th>count</th>\n",
       "      <th>mean</th>\n",
       "      <th>std</th>\n",
       "      <th>min</th>\n",
       "      <th>25%</th>\n",
       "      <th>50%</th>\n",
       "      <th>75%</th>\n",
       "      <th>max</th>\n",
       "    </tr>\n",
       "  </thead>\n",
       "  <tbody>\n",
       "    <tr>\n",
       "      <th>Fare</th>\n",
       "      <td>891.0</td>\n",
       "      <td>32.204208</td>\n",
       "      <td>49.693429</td>\n",
       "      <td>0.0</td>\n",
       "      <td>7.9104</td>\n",
       "      <td>14.4542</td>\n",
       "      <td>31.0</td>\n",
       "      <td>512.3292</td>\n",
       "    </tr>\n",
       "  </tbody>\n",
       "</table>\n",
       "</div>"
      ],
      "text/plain": [
       "      count       mean        std  min     25%      50%   75%       max\n",
       "Fare  891.0  32.204208  49.693429  0.0  7.9104  14.4542  31.0  512.3292"
      ]
     },
     "metadata": {},
     "output_type": "display_data"
    },
    {
     "data": {
      "text/html": [
       "<div>\n",
       "<style scoped>\n",
       "    .dataframe tbody tr th:only-of-type {\n",
       "        vertical-align: middle;\n",
       "    }\n",
       "\n",
       "    .dataframe tbody tr th {\n",
       "        vertical-align: top;\n",
       "    }\n",
       "\n",
       "    .dataframe thead th {\n",
       "        text-align: right;\n",
       "    }\n",
       "</style>\n",
       "<table border=\"1\" class=\"dataframe\">\n",
       "  <thead>\n",
       "    <tr style=\"text-align: right;\">\n",
       "      <th></th>\n",
       "      <th>Fare</th>\n",
       "    </tr>\n",
       "    <tr>\n",
       "      <th>Pclass</th>\n",
       "      <th></th>\n",
       "    </tr>\n",
       "  </thead>\n",
       "  <tbody>\n",
       "    <tr>\n",
       "      <th>1</th>\n",
       "      <td>84.154687</td>\n",
       "    </tr>\n",
       "    <tr>\n",
       "      <th>2</th>\n",
       "      <td>20.662183</td>\n",
       "    </tr>\n",
       "    <tr>\n",
       "      <th>3</th>\n",
       "      <td>13.675550</td>\n",
       "    </tr>\n",
       "  </tbody>\n",
       "</table>\n",
       "</div>"
      ],
      "text/plain": [
       "             Fare\n",
       "Pclass           \n",
       "1       84.154687\n",
       "2       20.662183\n",
       "3       13.675550"
      ]
     },
     "metadata": {},
     "output_type": "display_data"
    },
    {
     "data": {
      "text/html": [
       "<div>\n",
       "<style scoped>\n",
       "    .dataframe tbody tr th:only-of-type {\n",
       "        vertical-align: middle;\n",
       "    }\n",
       "\n",
       "    .dataframe tbody tr th {\n",
       "        vertical-align: top;\n",
       "    }\n",
       "\n",
       "    .dataframe thead th {\n",
       "        text-align: right;\n",
       "    }\n",
       "</style>\n",
       "<table border=\"1\" class=\"dataframe\">\n",
       "  <thead>\n",
       "    <tr style=\"text-align: right;\">\n",
       "      <th></th>\n",
       "      <th>Fare</th>\n",
       "    </tr>\n",
       "    <tr>\n",
       "      <th>Sex</th>\n",
       "      <th></th>\n",
       "    </tr>\n",
       "  </thead>\n",
       "  <tbody>\n",
       "    <tr>\n",
       "      <th>female</th>\n",
       "      <td>44.479818</td>\n",
       "    </tr>\n",
       "    <tr>\n",
       "      <th>male</th>\n",
       "      <td>25.523893</td>\n",
       "    </tr>\n",
       "  </tbody>\n",
       "</table>\n",
       "</div>"
      ],
      "text/plain": [
       "             Fare\n",
       "Sex              \n",
       "female  44.479818\n",
       "male    25.523893"
      ]
     },
     "metadata": {},
     "output_type": "display_data"
    },
    {
     "data": {
      "text/plain": [
       "<AxesSubplot:xlabel='Fare', ylabel='Count'>"
      ]
     },
     "execution_count": 19,
     "metadata": {},
     "output_type": "execute_result"
    },
    {
     "data": {
      "image/png": "[encoded data removed]",
      "text/plain": [
       "<Figure size 432x288 with 1 Axes>"
      ]
     },
     "metadata": {
      "needs_background": "light"
     },
     "output_type": "display_data"
    }
   ],
   "source": [
    "display(df_train[[\"Fare\"]].describe().T)\n",
    "\n",
    "display(df_train.groupby(\"Pclass\")[[\"Fare\"]].mean())\n",
    "\n",
    "display(df_train.groupby(\"Sex\")[[\"Fare\"]].mean())\n",
    "\n",
    "sns.histplot(data=df_train, x=\"Fare\")"
   ]
  },
  {
   "cell_type": "markdown",
   "id": "cbb3a36a",
   "metadata": {},
   "source": [
    "Let's explain the values that we get from the describe and groupby function:\n",
    "\n",
    "- Mean value of Fare is 32.20, min value is 0 and max value is 512.32\n",
    "- We have a high standard deviation value that is 49.69\n",
    "- Mean fare value of passengers according to the Pclass;\n",
    "    - Pclass1: 84.15\n",
    "    - Pclass2: 20.66\n",
    "    - Pclass3: 13.67\n",
    "        - So, we can clearly see that, socio enomic status effect on fares.\n",
    "- If we get into the mean fare value of according to the \"Sex\", females fares is higher than the males.\n",
    "- Lastly, we can get from the plot, majority of people paid lowest fares. We already knew this from the Pclass feature also, because the most people were from Pclass3."
   ]
  },
  {
   "cell_type": "code",
   "execution_count": 82,
   "id": "b5cf2192",
   "metadata": {},
   "outputs": [
    {
     "data": {
      "text/html": [
       "<div>\n",
       "<style scoped>\n",
       "    .dataframe tbody tr th:only-of-type {\n",
       "        vertical-align: middle;\n",
       "    }\n",
       "\n",
       "    .dataframe tbody tr th {\n",
       "        vertical-align: top;\n",
       "    }\n",
       "\n",
       "    .dataframe thead th {\n",
       "        text-align: right;\n",
       "    }\n",
       "</style>\n",
       "<table border=\"1\" class=\"dataframe\">\n",
       "  <thead>\n",
       "    <tr style=\"text-align: right;\">\n",
       "      <th></th>\n",
       "      <th>Fare</th>\n",
       "      <th>Survived</th>\n",
       "    </tr>\n",
       "  </thead>\n",
       "  <tbody>\n",
       "    <tr>\n",
       "      <th>Fare</th>\n",
       "      <td>1.000000</td>\n",
       "      <td>0.257307</td>\n",
       "    </tr>\n",
       "    <tr>\n",
       "      <th>Survived</th>\n",
       "      <td>0.257307</td>\n",
       "      <td>1.000000</td>\n",
       "    </tr>\n",
       "  </tbody>\n",
       "</table>\n",
       "</div>"
      ],
      "text/plain": [
       "              Fare  Survived\n",
       "Fare      1.000000  0.257307\n",
       "Survived  0.257307  1.000000"
      ]
     },
     "metadata": {},
     "output_type": "display_data"
    },
    {
     "data": {
      "image/png": "[encoded data removed]",
      "text/plain": [
       "<Figure size 432x216 with 2 Axes>"
      ]
     },
     "metadata": {
      "needs_background": "light"
     },
     "output_type": "display_data"
    }
   ],
   "source": [
    "g = sns.FacetGrid(df_train, col = \"Survived\")\n",
    "g.map(sns.histplot, \"Fare\", bins = 10)\n",
    "\n",
    "df_fares = df_train[[\"Fare\", \"Survived\"]]\n",
    "display(df_fares.corr())"
   ]
  },
  {
   "cell_type": "markdown",
   "id": "1eef89c2",
   "metadata": {},
   "source": [
    "#### **Money is effect to the survival rate?**\n",
    "\n",
    "- We can observe it from the graphs, died people are majority in lowest fares.\n",
    "\n",
    " **Observation:** Money is unfortuanetely effect the survival rate. But we must notice that, there is a \"weak correlation\", because correlation coefficient is 0.25\n"
   ]
  },
  {
   "cell_type": "markdown",
   "id": "25cc7e68",
   "metadata": {},
   "source": [
    "## SibSp"
   ]
  },
  {
   "cell_type": "code",
   "execution_count": 21,
   "id": "9c7977e1",
   "metadata": {},
   "outputs": [
    {
     "data": {
      "text/html": [
       "<style type=\"text/css\">\n",
       "#T_9e4e3_row0_col0 {\n",
       "  background-color: #f98e09;\n",
       "  color: #f1f1f1;\n",
       "}\n",
       "#T_9e4e3_row0_col1 {\n",
       "  background-color: #f68013;\n",
       "  color: #f1f1f1;\n",
       "}\n",
       "#T_9e4e3_row0_col2 {\n",
       "  background-color: #f67e14;\n",
       "  color: #f1f1f1;\n",
       "}\n",
       "#T_9e4e3_row0_col3 {\n",
       "  background-color: #d24644;\n",
       "  color: #f1f1f1;\n",
       "}\n",
       "#T_9e4e3_row0_col4 {\n",
       "  background-color: #d54a41;\n",
       "  color: #f1f1f1;\n",
       "}\n",
       "#T_9e4e3_row0_col5 {\n",
       "  background-color: #f3761b;\n",
       "  color: #f1f1f1;\n",
       "}\n",
       "#T_9e4e3_row0_col6 {\n",
       "  background-color: #f06f20;\n",
       "  color: #f1f1f1;\n",
       "}\n",
       "#T_9e4e3_row1_col0 {\n",
       "  background-color: #4c0c6b;\n",
       "  color: #f1f1f1;\n",
       "}\n",
       "#T_9e4e3_row1_col1 {\n",
       "  background-color: #510e6c;\n",
       "  color: #f1f1f1;\n",
       "}\n",
       "#T_9e4e3_row1_col2 {\n",
       "  background-color: #260c51;\n",
       "  color: #f1f1f1;\n",
       "}\n",
       "#T_9e4e3_row1_col3 {\n",
       "  background-color: #8f2469;\n",
       "  color: #f1f1f1;\n",
       "}\n",
       "#T_9e4e3_row1_col4 {\n",
       "  background-color: #87216b;\n",
       "  color: #f1f1f1;\n",
       "}\n",
       "#T_9e4e3_row1_col5, #T_9e4e3_row1_col6 {\n",
       "  background-color: #4d0d6c;\n",
       "  color: #f1f1f1;\n",
       "}\n",
       "#T_9e4e3_row2_col0, #T_9e4e3_row2_col2, #T_9e4e3_row3_col0, #T_9e4e3_row3_col3, #T_9e4e3_row3_col6, #T_9e4e3_row4_col6 {\n",
       "  background-color: #010108;\n",
       "  color: #f1f1f1;\n",
       "}\n",
       "#T_9e4e3_row2_col1, #T_9e4e3_row2_col5 {\n",
       "  background-color: #050417;\n",
       "  color: #f1f1f1;\n",
       "}\n",
       "#T_9e4e3_row2_col3 {\n",
       "  background-color: #030210;\n",
       "  color: #f1f1f1;\n",
       "}\n",
       "#T_9e4e3_row2_col4 {\n",
       "  background-color: #060419;\n",
       "  color: #f1f1f1;\n",
       "}\n",
       "#T_9e4e3_row2_col6, #T_9e4e3_row4_col2, #T_9e4e3_row4_col5 {\n",
       "  background-color: #02020e;\n",
       "  color: #f1f1f1;\n",
       "}\n",
       "#T_9e4e3_row3_col1, #T_9e4e3_row4_col0, #T_9e4e3_row4_col1, #T_9e4e3_row4_col3, #T_9e4e3_row4_col4, #T_9e4e3_row5_col0, #T_9e4e3_row5_col1, #T_9e4e3_row5_col2, #T_9e4e3_row5_col3, #T_9e4e3_row5_col4, #T_9e4e3_row5_col5, #T_9e4e3_row5_col6, #T_9e4e3_row6_col0, #T_9e4e3_row6_col1, #T_9e4e3_row6_col3, #T_9e4e3_row6_col4, #T_9e4e3_row6_col5, #T_9e4e3_row6_col6 {\n",
       "  background-color: #000004;\n",
       "  color: #f1f1f1;\n",
       "}\n",
       "#T_9e4e3_row3_col2 {\n",
       "  background-color: #02010a;\n",
       "  color: #f1f1f1;\n",
       "}\n",
       "#T_9e4e3_row3_col4, #T_9e4e3_row3_col5 {\n",
       "  background-color: #010106;\n",
       "  color: #f1f1f1;\n",
       "}\n",
       "#T_9e4e3_row6_col2 {\n",
       "  background-color: #010005;\n",
       "  color: #f1f1f1;\n",
       "}\n",
       "#T_9e4e3_row7_col0, #T_9e4e3_row7_col1, #T_9e4e3_row7_col2, #T_9e4e3_row7_col3, #T_9e4e3_row7_col4, #T_9e4e3_row7_col5, #T_9e4e3_row7_col6 {\n",
       "  background-color: #fcffa4;\n",
       "  color: #000000;\n",
       "}\n",
       "</style>\n",
       "<table id=\"T_9e4e3\">\n",
       "  <thead>\n",
       "    <tr>\n",
       "      <th class=\"index_name level0\" >Survived</th>\n",
       "      <th id=\"T_9e4e3_level0_col0\" class=\"col_heading level0 col0\" colspan=\"3\">0</th>\n",
       "      <th id=\"T_9e4e3_level0_col3\" class=\"col_heading level0 col3\" colspan=\"3\">1</th>\n",
       "      <th id=\"T_9e4e3_level0_col6\" class=\"col_heading level0 col6\" >All</th>\n",
       "    </tr>\n",
       "    <tr>\n",
       "      <th class=\"index_name level1\" >Pclass</th>\n",
       "      <th id=\"T_9e4e3_level1_col0\" class=\"col_heading level1 col0\" >1</th>\n",
       "      <th id=\"T_9e4e3_level1_col1\" class=\"col_heading level1 col1\" >2</th>\n",
       "      <th id=\"T_9e4e3_level1_col2\" class=\"col_heading level1 col2\" >3</th>\n",
       "      <th id=\"T_9e4e3_level1_col3\" class=\"col_heading level1 col3\" >1</th>\n",
       "      <th id=\"T_9e4e3_level1_col4\" class=\"col_heading level1 col4\" >2</th>\n",
       "      <th id=\"T_9e4e3_level1_col5\" class=\"col_heading level1 col5\" >3</th>\n",
       "      <th id=\"T_9e4e3_level1_col6\" class=\"col_heading level1 col6\" ></th>\n",
       "    </tr>\n",
       "    <tr>\n",
       "      <th class=\"index_name level0\" >SibSp</th>\n",
       "      <th class=\"blank col0\" >&nbsp;</th>\n",
       "      <th class=\"blank col1\" >&nbsp;</th>\n",
       "      <th class=\"blank col2\" >&nbsp;</th>\n",
       "      <th class=\"blank col3\" >&nbsp;</th>\n",
       "      <th class=\"blank col4\" >&nbsp;</th>\n",
       "      <th class=\"blank col5\" >&nbsp;</th>\n",
       "      <th class=\"blank col6\" >&nbsp;</th>\n",
       "    </tr>\n",
       "  </thead>\n",
       "  <tbody>\n",
       "    <tr>\n",
       "      <th id=\"T_9e4e3_level0_row0\" class=\"row_heading level0 row0\" >0</th>\n",
       "      <td id=\"T_9e4e3_row0_col0\" class=\"data row0 col0\" >60</td>\n",
       "      <td id=\"T_9e4e3_row0_col1\" class=\"data row0 col1\" >70</td>\n",
       "      <td id=\"T_9e4e3_row0_col2\" class=\"data row0 col2\" >268</td>\n",
       "      <td id=\"T_9e4e3_row0_col3\" class=\"data row0 col3\" >77</td>\n",
       "      <td id=\"T_9e4e3_row0_col4\" class=\"data row0 col4\" >50</td>\n",
       "      <td id=\"T_9e4e3_row0_col5\" class=\"data row0 col5\" >83</td>\n",
       "      <td id=\"T_9e4e3_row0_col6\" class=\"data row0 col6\" >608</td>\n",
       "    </tr>\n",
       "    <tr>\n",
       "      <th id=\"T_9e4e3_level0_row1\" class=\"row_heading level0 row1\" >1</th>\n",
       "      <td id=\"T_9e4e3_row1_col0\" class=\"data row1 col0\" >18</td>\n",
       "      <td id=\"T_9e4e3_row1_col1\" class=\"data row1 col1\" >23</td>\n",
       "      <td id=\"T_9e4e3_row1_col2\" class=\"data row1 col2\" >56</td>\n",
       "      <td id=\"T_9e4e3_row1_col3\" class=\"data row1 col3\" >53</td>\n",
       "      <td id=\"T_9e4e3_row1_col4\" class=\"data row1 col4\" >32</td>\n",
       "      <td id=\"T_9e4e3_row1_col5\" class=\"data row1 col5\" >27</td>\n",
       "      <td id=\"T_9e4e3_row1_col6\" class=\"data row1 col6\" >209</td>\n",
       "    </tr>\n",
       "    <tr>\n",
       "      <th id=\"T_9e4e3_level0_row2\" class=\"row_heading level0 row2\" >2</th>\n",
       "      <td id=\"T_9e4e3_row2_col0\" class=\"data row2 col0\" >1</td>\n",
       "      <td id=\"T_9e4e3_row2_col1\" class=\"data row2 col1\" >4</td>\n",
       "      <td id=\"T_9e4e3_row2_col2\" class=\"data row2 col2\" >10</td>\n",
       "      <td id=\"T_9e4e3_row2_col3\" class=\"data row2 col3\" >4</td>\n",
       "      <td id=\"T_9e4e3_row2_col4\" class=\"data row2 col4\" >4</td>\n",
       "      <td id=\"T_9e4e3_row2_col5\" class=\"data row2 col5\" >5</td>\n",
       "      <td id=\"T_9e4e3_row2_col6\" class=\"data row2 col6\" >28</td>\n",
       "    </tr>\n",
       "    <tr>\n",
       "      <th id=\"T_9e4e3_level0_row3\" class=\"row_heading level0 row3\" >3</th>\n",
       "      <td id=\"T_9e4e3_row3_col0\" class=\"data row3 col0\" >1</td>\n",
       "      <td id=\"T_9e4e3_row3_col1\" class=\"data row3 col1\" >0</td>\n",
       "      <td id=\"T_9e4e3_row3_col2\" class=\"data row3 col2\" >11</td>\n",
       "      <td id=\"T_9e4e3_row3_col3\" class=\"data row3 col3\" >2</td>\n",
       "      <td id=\"T_9e4e3_row3_col4\" class=\"data row3 col4\" >1</td>\n",
       "      <td id=\"T_9e4e3_row3_col5\" class=\"data row3 col5\" >1</td>\n",
       "      <td id=\"T_9e4e3_row3_col6\" class=\"data row3 col6\" >16</td>\n",
       "    </tr>\n",
       "    <tr>\n",
       "      <th id=\"T_9e4e3_level0_row4\" class=\"row_heading level0 row4\" >4</th>\n",
       "      <td id=\"T_9e4e3_row4_col0\" class=\"data row4 col0\" >0</td>\n",
       "      <td id=\"T_9e4e3_row4_col1\" class=\"data row4 col1\" >0</td>\n",
       "      <td id=\"T_9e4e3_row4_col2\" class=\"data row4 col2\" >15</td>\n",
       "      <td id=\"T_9e4e3_row4_col3\" class=\"data row4 col3\" >0</td>\n",
       "      <td id=\"T_9e4e3_row4_col4\" class=\"data row4 col4\" >0</td>\n",
       "      <td id=\"T_9e4e3_row4_col5\" class=\"data row4 col5\" >3</td>\n",
       "      <td id=\"T_9e4e3_row4_col6\" class=\"data row4 col6\" >18</td>\n",
       "    </tr>\n",
       "    <tr>\n",
       "      <th id=\"T_9e4e3_level0_row5\" class=\"row_heading level0 row5\" >5</th>\n",
       "      <td id=\"T_9e4e3_row5_col0\" class=\"data row5 col0\" >0</td>\n",
       "      <td id=\"T_9e4e3_row5_col1\" class=\"data row5 col1\" >0</td>\n",
       "      <td id=\"T_9e4e3_row5_col2\" class=\"data row5 col2\" >5</td>\n",
       "      <td id=\"T_9e4e3_row5_col3\" class=\"data row5 col3\" >0</td>\n",
       "      <td id=\"T_9e4e3_row5_col4\" class=\"data row5 col4\" >0</td>\n",
       "      <td id=\"T_9e4e3_row5_col5\" class=\"data row5 col5\" >0</td>\n",
       "      <td id=\"T_9e4e3_row5_col6\" class=\"data row5 col6\" >5</td>\n",
       "    </tr>\n",
       "    <tr>\n",
       "      <th id=\"T_9e4e3_level0_row6\" class=\"row_heading level0 row6\" >8</th>\n",
       "      <td id=\"T_9e4e3_row6_col0\" class=\"data row6 col0\" >0</td>\n",
       "      <td id=\"T_9e4e3_row6_col1\" class=\"data row6 col1\" >0</td>\n",
       "      <td id=\"T_9e4e3_row6_col2\" class=\"data row6 col2\" >7</td>\n",
       "      <td id=\"T_9e4e3_row6_col3\" class=\"data row6 col3\" >0</td>\n",
       "      <td id=\"T_9e4e3_row6_col4\" class=\"data row6 col4\" >0</td>\n",
       "      <td id=\"T_9e4e3_row6_col5\" class=\"data row6 col5\" >0</td>\n",
       "      <td id=\"T_9e4e3_row6_col6\" class=\"data row6 col6\" >7</td>\n",
       "    </tr>\n",
       "    <tr>\n",
       "      <th id=\"T_9e4e3_level0_row7\" class=\"row_heading level0 row7\" >All</th>\n",
       "      <td id=\"T_9e4e3_row7_col0\" class=\"data row7 col0\" >80</td>\n",
       "      <td id=\"T_9e4e3_row7_col1\" class=\"data row7 col1\" >97</td>\n",
       "      <td id=\"T_9e4e3_row7_col2\" class=\"data row7 col2\" >372</td>\n",
       "      <td id=\"T_9e4e3_row7_col3\" class=\"data row7 col3\" >136</td>\n",
       "      <td id=\"T_9e4e3_row7_col4\" class=\"data row7 col4\" >87</td>\n",
       "      <td id=\"T_9e4e3_row7_col5\" class=\"data row7 col5\" >119</td>\n",
       "      <td id=\"T_9e4e3_row7_col6\" class=\"data row7 col6\" >891</td>\n",
       "    </tr>\n",
       "  </tbody>\n",
       "</table>\n"
      ],
      "text/plain": [
       "<pandas.io.formats.style.Styler at 0x7fde490f9910>"
      ]
     },
     "metadata": {},
     "output_type": "display_data"
    },
    {
     "data": {
      "text/plain": [
       "<seaborn.axisgrid.FacetGrid at 0x7fde48f1ba90>"
      ]
     },
     "execution_count": 21,
     "metadata": {},
     "output_type": "execute_result"
    },
    {
     "data": {
      "image/png": "[encoded data removed]",
      "text/plain": [
       "<Figure size 411.875x360 with 1 Axes>"
      ]
     },
     "metadata": {
      "needs_background": "light"
     },
     "output_type": "display_data"
    }
   ],
   "source": [
    "display(pd.crosstab([df_train.SibSp],[df_train.Survived, df_train.Pclass], margins=True).style.background_gradient(cmap='inferno'))\n",
    "sns.catplot(data=df_train, x=\"SibSp\", hue=\"Survived\", kind=\"count\" )"
   ]
  },
  {
   "cell_type": "markdown",
   "id": "d88fe7d1",
   "metadata": {},
   "source": [
    "#### Let's examine the SibSp feature according to the crosstab and countplot ➡\n",
    "\n",
    "- Majority of the people have \"0\" value of SibSp, well 608 people are alone and 209 people just have \"1\" siblings or spouse. In total 817 people are alone or have 1 SibSp.\n",
    "- People have above the 3 siblings are in Pclass3 and almost of these people are death. It can be caused the number of the families, imagine you are in the titanic with your family, you were trying to save them and find them. Maybe, while they were searching or trying to save their family, they died.\n",
    "- While siblings value is increasing, survival rate is decreasing.m"
   ]
  },
  {
   "cell_type": "code",
   "execution_count": 22,
   "id": "4dfb839f",
   "metadata": {},
   "outputs": [
    {
     "data": {
      "text/html": [
       "<div>\n",
       "<style scoped>\n",
       "    .dataframe tbody tr th:only-of-type {\n",
       "        vertical-align: middle;\n",
       "    }\n",
       "\n",
       "    .dataframe tbody tr th {\n",
       "        vertical-align: top;\n",
       "    }\n",
       "\n",
       "    .dataframe thead th {\n",
       "        text-align: right;\n",
       "    }\n",
       "</style>\n",
       "<table border=\"1\" class=\"dataframe\">\n",
       "  <thead>\n",
       "    <tr style=\"text-align: right;\">\n",
       "      <th></th>\n",
       "      <th>SibSp</th>\n",
       "      <th>Survived</th>\n",
       "    </tr>\n",
       "  </thead>\n",
       "  <tbody>\n",
       "    <tr>\n",
       "      <th>SibSp</th>\n",
       "      <td>1.000000</td>\n",
       "      <td>-0.035322</td>\n",
       "    </tr>\n",
       "    <tr>\n",
       "      <th>Survived</th>\n",
       "      <td>-0.035322</td>\n",
       "      <td>1.000000</td>\n",
       "    </tr>\n",
       "  </tbody>\n",
       "</table>\n",
       "</div>"
      ],
      "text/plain": [
       "             SibSp  Survived\n",
       "SibSp     1.000000 -0.035322\n",
       "Survived -0.035322  1.000000"
      ]
     },
     "metadata": {},
     "output_type": "display_data"
    }
   ],
   "source": [
    "df_sibsp = df_train[[\"SibSp\", \"Survived\"]]\n",
    "display(df_sibsp.corr())"
   ]
  },
  {
   "cell_type": "markdown",
   "id": "cd2422f5",
   "metadata": {},
   "source": [
    "There is no correlation between the SibSp and Survived features. Because, density of \"0-1 SibSp\" is high."
   ]
  },
  {
   "cell_type": "markdown",
   "id": "1eb6b8c7",
   "metadata": {},
   "source": [
    "## Parch"
   ]
  },
  {
   "cell_type": "code",
   "execution_count": 23,
   "id": "b2d9430e",
   "metadata": {},
   "outputs": [
    {
     "data": {
      "text/html": [
       "<style type=\"text/css\">\n",
       "#T_0bbf6_row0_col0 {\n",
       "  background-color: #fca50a;\n",
       "  color: #000000;\n",
       "}\n",
       "#T_0bbf6_row0_col1 {\n",
       "  background-color: #f8cf3a;\n",
       "  color: #000000;\n",
       "}\n",
       "#T_0bbf6_row0_col2 {\n",
       "  background-color: #fca108;\n",
       "  color: #000000;\n",
       "}\n",
       "#T_0bbf6_row0_col3 {\n",
       "  background-color: #f78410;\n",
       "  color: #f1f1f1;\n",
       "}\n",
       "#T_0bbf6_row0_col4 {\n",
       "  background-color: #ce4347;\n",
       "  color: #f1f1f1;\n",
       "}\n",
       "#T_0bbf6_row0_col5 {\n",
       "  background-color: #f78212;\n",
       "  color: #f1f1f1;\n",
       "}\n",
       "#T_0bbf6_row0_col6 {\n",
       "  background-color: #fa9207;\n",
       "  color: #000000;\n",
       "}\n",
       "#T_0bbf6_row1_col0 {\n",
       "  background-color: #210c4a;\n",
       "  color: #f1f1f1;\n",
       "}\n",
       "#T_0bbf6_row1_col1, #T_0bbf6_row2_col2 {\n",
       "  background-color: #110a30;\n",
       "  color: #f1f1f1;\n",
       "}\n",
       "#T_0bbf6_row1_col2, #T_0bbf6_row2_col5 {\n",
       "  background-color: #140b34;\n",
       "  color: #f1f1f1;\n",
       "}\n",
       "#T_0bbf6_row1_col3 {\n",
       "  background-color: #2d0b59;\n",
       "  color: #f1f1f1;\n",
       "}\n",
       "#T_0bbf6_row1_col4 {\n",
       "  background-color: #61136e;\n",
       "  color: #f1f1f1;\n",
       "}\n",
       "#T_0bbf6_row1_col5 {\n",
       "  background-color: #340a5f;\n",
       "  color: #f1f1f1;\n",
       "}\n",
       "#T_0bbf6_row1_col6 {\n",
       "  background-color: #230c4c;\n",
       "  color: #f1f1f1;\n",
       "}\n",
       "#T_0bbf6_row2_col0 {\n",
       "  background-color: #0b0724;\n",
       "  color: #f1f1f1;\n",
       "}\n",
       "#T_0bbf6_row2_col1 {\n",
       "  background-color: #030210;\n",
       "  color: #f1f1f1;\n",
       "}\n",
       "#T_0bbf6_row2_col3 {\n",
       "  background-color: #1e0c45;\n",
       "  color: #f1f1f1;\n",
       "}\n",
       "#T_0bbf6_row2_col4 {\n",
       "  background-color: #2b0b57;\n",
       "  color: #f1f1f1;\n",
       "}\n",
       "#T_0bbf6_row2_col6 {\n",
       "  background-color: #120a32;\n",
       "  color: #f1f1f1;\n",
       "}\n",
       "#T_0bbf6_row3_col0, #T_0bbf6_row3_col1, #T_0bbf6_row3_col2, #T_0bbf6_row3_col3, #T_0bbf6_row4_col1, #T_0bbf6_row4_col3, #T_0bbf6_row4_col4, #T_0bbf6_row4_col5, #T_0bbf6_row4_col6, #T_0bbf6_row5_col0, #T_0bbf6_row5_col1, #T_0bbf6_row5_col3, #T_0bbf6_row5_col4, #T_0bbf6_row6_col0, #T_0bbf6_row6_col1, #T_0bbf6_row6_col2, #T_0bbf6_row6_col3, #T_0bbf6_row6_col4, #T_0bbf6_row6_col5, #T_0bbf6_row6_col6 {\n",
       "  background-color: #000004;\n",
       "  color: #f1f1f1;\n",
       "}\n",
       "#T_0bbf6_row3_col4 {\n",
       "  background-color: #02020c;\n",
       "  color: #f1f1f1;\n",
       "}\n",
       "#T_0bbf6_row3_col5, #T_0bbf6_row5_col2, #T_0bbf6_row5_col5 {\n",
       "  background-color: #010106;\n",
       "  color: #f1f1f1;\n",
       "}\n",
       "#T_0bbf6_row3_col6, #T_0bbf6_row4_col2, #T_0bbf6_row5_col6 {\n",
       "  background-color: #010005;\n",
       "  color: #f1f1f1;\n",
       "}\n",
       "#T_0bbf6_row4_col0 {\n",
       "  background-color: #010108;\n",
       "  color: #f1f1f1;\n",
       "}\n",
       "#T_0bbf6_row7_col0, #T_0bbf6_row7_col1, #T_0bbf6_row7_col2, #T_0bbf6_row7_col3, #T_0bbf6_row7_col4, #T_0bbf6_row7_col5, #T_0bbf6_row7_col6 {\n",
       "  background-color: #fcffa4;\n",
       "  color: #000000;\n",
       "}\n",
       "</style>\n",
       "<table id=\"T_0bbf6\">\n",
       "  <thead>\n",
       "    <tr>\n",
       "      <th class=\"index_name level0\" >Survived</th>\n",
       "      <th id=\"T_0bbf6_level0_col0\" class=\"col_heading level0 col0\" colspan=\"3\">0</th>\n",
       "      <th id=\"T_0bbf6_level0_col3\" class=\"col_heading level0 col3\" colspan=\"3\">1</th>\n",
       "      <th id=\"T_0bbf6_level0_col6\" class=\"col_heading level0 col6\" >All</th>\n",
       "    </tr>\n",
       "    <tr>\n",
       "      <th class=\"index_name level1\" >Pclass</th>\n",
       "      <th id=\"T_0bbf6_level1_col0\" class=\"col_heading level1 col0\" >1</th>\n",
       "      <th id=\"T_0bbf6_level1_col1\" class=\"col_heading level1 col1\" >2</th>\n",
       "      <th id=\"T_0bbf6_level1_col2\" class=\"col_heading level1 col2\" >3</th>\n",
       "      <th id=\"T_0bbf6_level1_col3\" class=\"col_heading level1 col3\" >1</th>\n",
       "      <th id=\"T_0bbf6_level1_col4\" class=\"col_heading level1 col4\" >2</th>\n",
       "      <th id=\"T_0bbf6_level1_col5\" class=\"col_heading level1 col5\" >3</th>\n",
       "      <th id=\"T_0bbf6_level1_col6\" class=\"col_heading level1 col6\" ></th>\n",
       "    </tr>\n",
       "    <tr>\n",
       "      <th class=\"index_name level0\" >Parch</th>\n",
       "      <th class=\"blank col0\" >&nbsp;</th>\n",
       "      <th class=\"blank col1\" >&nbsp;</th>\n",
       "      <th class=\"blank col2\" >&nbsp;</th>\n",
       "      <th class=\"blank col3\" >&nbsp;</th>\n",
       "      <th class=\"blank col4\" >&nbsp;</th>\n",
       "      <th class=\"blank col5\" >&nbsp;</th>\n",
       "      <th class=\"blank col6\" >&nbsp;</th>\n",
       "    </tr>\n",
       "  </thead>\n",
       "  <tbody>\n",
       "    <tr>\n",
       "      <th id=\"T_0bbf6_level0_row0\" class=\"row_heading level0 row0\" >0</th>\n",
       "      <td id=\"T_0bbf6_row0_col0\" class=\"data row0 col0\" >64</td>\n",
       "      <td id=\"T_0bbf6_row0_col1\" class=\"data row0 col1\" >86</td>\n",
       "      <td id=\"T_0bbf6_row0_col2\" class=\"data row0 col2\" >295</td>\n",
       "      <td id=\"T_0bbf6_row0_col3\" class=\"data row0 col3\" >99</td>\n",
       "      <td id=\"T_0bbf6_row0_col4\" class=\"data row0 col4\" >48</td>\n",
       "      <td id=\"T_0bbf6_row0_col5\" class=\"data row0 col5\" >86</td>\n",
       "      <td id=\"T_0bbf6_row0_col6\" class=\"data row0 col6\" >678</td>\n",
       "    </tr>\n",
       "    <tr>\n",
       "      <th id=\"T_0bbf6_level0_row1\" class=\"row_heading level0 row1\" >1</th>\n",
       "      <td id=\"T_0bbf6_row1_col0\" class=\"data row1 col0\" >10</td>\n",
       "      <td id=\"T_0bbf6_row1_col1\" class=\"data row1 col1\" >8</td>\n",
       "      <td id=\"T_0bbf6_row1_col2\" class=\"data row1 col2\" >35</td>\n",
       "      <td id=\"T_0bbf6_row1_col3\" class=\"data row1 col3\" >21</td>\n",
       "      <td id=\"T_0bbf6_row1_col4\" class=\"data row1 col4\" >24</td>\n",
       "      <td id=\"T_0bbf6_row1_col5\" class=\"data row1 col5\" >20</td>\n",
       "      <td id=\"T_0bbf6_row1_col6\" class=\"data row1 col6\" >118</td>\n",
       "    </tr>\n",
       "    <tr>\n",
       "      <th id=\"T_0bbf6_level0_row2\" class=\"row_heading level0 row2\" >2</th>\n",
       "      <td id=\"T_0bbf6_row2_col0\" class=\"data row2 col0\" >5</td>\n",
       "      <td id=\"T_0bbf6_row2_col1\" class=\"data row2 col1\" >3</td>\n",
       "      <td id=\"T_0bbf6_row2_col2\" class=\"data row2 col2\" >32</td>\n",
       "      <td id=\"T_0bbf6_row2_col3\" class=\"data row2 col3\" >16</td>\n",
       "      <td id=\"T_0bbf6_row2_col4\" class=\"data row2 col4\" >13</td>\n",
       "      <td id=\"T_0bbf6_row2_col5\" class=\"data row2 col5\" >11</td>\n",
       "      <td id=\"T_0bbf6_row2_col6\" class=\"data row2 col6\" >80</td>\n",
       "    </tr>\n",
       "    <tr>\n",
       "      <th id=\"T_0bbf6_level0_row3\" class=\"row_heading level0 row3\" >3</th>\n",
       "      <td id=\"T_0bbf6_row3_col0\" class=\"data row3 col0\" >0</td>\n",
       "      <td id=\"T_0bbf6_row3_col1\" class=\"data row3 col1\" >0</td>\n",
       "      <td id=\"T_0bbf6_row3_col2\" class=\"data row3 col2\" >2</td>\n",
       "      <td id=\"T_0bbf6_row3_col3\" class=\"data row3 col3\" >0</td>\n",
       "      <td id=\"T_0bbf6_row3_col4\" class=\"data row3 col4\" >2</td>\n",
       "      <td id=\"T_0bbf6_row3_col5\" class=\"data row3 col5\" >1</td>\n",
       "      <td id=\"T_0bbf6_row3_col6\" class=\"data row3 col6\" >5</td>\n",
       "    </tr>\n",
       "    <tr>\n",
       "      <th id=\"T_0bbf6_level0_row4\" class=\"row_heading level0 row4\" >4</th>\n",
       "      <td id=\"T_0bbf6_row4_col0\" class=\"data row4 col0\" >1</td>\n",
       "      <td id=\"T_0bbf6_row4_col1\" class=\"data row4 col1\" >0</td>\n",
       "      <td id=\"T_0bbf6_row4_col2\" class=\"data row4 col2\" >3</td>\n",
       "      <td id=\"T_0bbf6_row4_col3\" class=\"data row4 col3\" >0</td>\n",
       "      <td id=\"T_0bbf6_row4_col4\" class=\"data row4 col4\" >0</td>\n",
       "      <td id=\"T_0bbf6_row4_col5\" class=\"data row4 col5\" >0</td>\n",
       "      <td id=\"T_0bbf6_row4_col6\" class=\"data row4 col6\" >4</td>\n",
       "    </tr>\n",
       "    <tr>\n",
       "      <th id=\"T_0bbf6_level0_row5\" class=\"row_heading level0 row5\" >5</th>\n",
       "      <td id=\"T_0bbf6_row5_col0\" class=\"data row5 col0\" >0</td>\n",
       "      <td id=\"T_0bbf6_row5_col1\" class=\"data row5 col1\" >0</td>\n",
       "      <td id=\"T_0bbf6_row5_col2\" class=\"data row5 col2\" >4</td>\n",
       "      <td id=\"T_0bbf6_row5_col3\" class=\"data row5 col3\" >0</td>\n",
       "      <td id=\"T_0bbf6_row5_col4\" class=\"data row5 col4\" >0</td>\n",
       "      <td id=\"T_0bbf6_row5_col5\" class=\"data row5 col5\" >1</td>\n",
       "      <td id=\"T_0bbf6_row5_col6\" class=\"data row5 col6\" >5</td>\n",
       "    </tr>\n",
       "    <tr>\n",
       "      <th id=\"T_0bbf6_level0_row6\" class=\"row_heading level0 row6\" >6</th>\n",
       "      <td id=\"T_0bbf6_row6_col0\" class=\"data row6 col0\" >0</td>\n",
       "      <td id=\"T_0bbf6_row6_col1\" class=\"data row6 col1\" >0</td>\n",
       "      <td id=\"T_0bbf6_row6_col2\" class=\"data row6 col2\" >1</td>\n",
       "      <td id=\"T_0bbf6_row6_col3\" class=\"data row6 col3\" >0</td>\n",
       "      <td id=\"T_0bbf6_row6_col4\" class=\"data row6 col4\" >0</td>\n",
       "      <td id=\"T_0bbf6_row6_col5\" class=\"data row6 col5\" >0</td>\n",
       "      <td id=\"T_0bbf6_row6_col6\" class=\"data row6 col6\" >1</td>\n",
       "    </tr>\n",
       "    <tr>\n",
       "      <th id=\"T_0bbf6_level0_row7\" class=\"row_heading level0 row7\" >All</th>\n",
       "      <td id=\"T_0bbf6_row7_col0\" class=\"data row7 col0\" >80</td>\n",
       "      <td id=\"T_0bbf6_row7_col1\" class=\"data row7 col1\" >97</td>\n",
       "      <td id=\"T_0bbf6_row7_col2\" class=\"data row7 col2\" >372</td>\n",
       "      <td id=\"T_0bbf6_row7_col3\" class=\"data row7 col3\" >136</td>\n",
       "      <td id=\"T_0bbf6_row7_col4\" class=\"data row7 col4\" >87</td>\n",
       "      <td id=\"T_0bbf6_row7_col5\" class=\"data row7 col5\" >119</td>\n",
       "      <td id=\"T_0bbf6_row7_col6\" class=\"data row7 col6\" >891</td>\n",
       "    </tr>\n",
       "  </tbody>\n",
       "</table>\n"
      ],
      "text/plain": [
       "<pandas.io.formats.style.Styler at 0x7fde486556a0>"
      ]
     },
     "metadata": {},
     "output_type": "display_data"
    },
    {
     "data": {
      "text/plain": [
       "<seaborn.axisgrid.FacetGrid at 0x7fde48f352e0>"
      ]
     },
     "execution_count": 23,
     "metadata": {},
     "output_type": "execute_result"
    },
    {
     "data": {
      "image/png": "[encoded data removed]",
      "text/plain": [
       "<Figure size 411.875x360 with 1 Axes>"
      ]
     },
     "metadata": {
      "needs_background": "light"
     },
     "output_type": "display_data"
    }
   ],
   "source": [
    "display(pd.crosstab([df_train.Parch],[df_train.Survived, df_train.Pclass], margins=True).style.background_gradient(cmap='inferno'))\n",
    "sns.catplot(data=df_train, x=\"Parch\", hue=\"Survived\", kind=\"count\" )"
   ]
  },
  {
   "cell_type": "markdown",
   "id": "def962c1",
   "metadata": {},
   "source": [
    "- Density of the \"Parch\" feature is high in 0-1-2 numbers, We noticed in \"SibSp\" part the most people were alone, also we can observe this situation from the \"Parch\".\n",
    "- While parch number is increasing(>3), we can observe, almost everyone is from Pclass3 and survival rate is so low."
   ]
  },
  {
   "cell_type": "markdown",
   "id": "21faed18",
   "metadata": {},
   "source": [
    "# Feature Engineering"
   ]
  },
  {
   "cell_type": "markdown",
   "id": "fa4e3e9f",
   "metadata": {},
   "source": [
    "### **Steps:**\n",
    "\n",
    "- **Handling with missing values**\n",
    "- **Handling with outliers**\n",
    "- **Feature Transformation**\n",
    "- **Encoding**\n",
    "- **Feature Selection**\n",
    "- **Preparing of Train and Test Values**\n",
    "- **Feature Scaling**"
   ]
  },
  {
   "cell_type": "markdown",
   "id": "59296b04",
   "metadata": {},
   "source": [
    "### HANDLING WITH MISSING VALUES"
   ]
  },
  {
   "cell_type": "code",
   "execution_count": 24,
   "id": "6bf68bb1",
   "metadata": {},
   "outputs": [
    {
     "data": {
      "text/plain": [
       "<AxesSubplot:>"
      ]
     },
     "execution_count": 24,
     "metadata": {},
     "output_type": "execute_result"
    },
    {
     "data": {
      "image/png": "[encoded data removed]",
      "text/plain": [
       "<Figure size 1440x720 with 1 Axes>"
      ]
     },
     "metadata": {
      "needs_background": "light"
     },
     "output_type": "display_data"
    }
   ],
   "source": [
    "plt.figure(figsize=(20,10))\n",
    "sns.heatmap(df.isna(), cbar=False)"
   ]
  },
  {
   "cell_type": "markdown",
   "id": "b28d6386",
   "metadata": {},
   "source": [
    "It can be clearly seen from the matrix, like we said age and cabin features have missing values and cabin's values looks like have much more missing values.Also, survived have missing values but because of the test dataset. We will split the dataset in model section, so we will not have the missing value problem of Survived feature."
   ]
  },
  {
   "cell_type": "code",
   "execution_count": 25,
   "id": "831ce273",
   "metadata": {},
   "outputs": [
    {
     "data": {
      "text/plain": [
       "PassengerId       0\n",
       "Survived        418\n",
       "Pclass            0\n",
       "Name              0\n",
       "Sex               0\n",
       "Age             263\n",
       "SibSp             0\n",
       "Parch             0\n",
       "Ticket            0\n",
       "Fare              1\n",
       "Cabin          1014\n",
       "Embarked          2\n",
       "dtype: int64"
      ]
     },
     "execution_count": 25,
     "metadata": {},
     "output_type": "execute_result"
    }
   ],
   "source": [
    "df.isna().sum()"
   ]
  },
  {
   "cell_type": "markdown",
   "id": "be7e0d99",
   "metadata": {},
   "source": [
    "There are mainly two methods of handling with missing values.\n",
    "- **Deleting missing value**s(This is useful when column has a %65+ percent of missing values or we couldn't get any information from the colums causing by the missing values)\n",
    "- **Impute missing values with \"mean,median,zero\" for quantative variables**(Like, Age)\n",
    "- **Impute missing values with \"mode, \"other\"\" for qualitative variables**(Like, Embarked)\n",
    "Let's get rid off the missing values with \"Imputation Method\"\n",
    "\n",
    "**Let's begin ➡**"
   ]
  },
  {
   "cell_type": "code",
   "execution_count": 26,
   "id": "77415054",
   "metadata": {},
   "outputs": [
    {
     "data": {
      "text/plain": [
       "PassengerId       0\n",
       "Survived        418\n",
       "Pclass            0\n",
       "Name              0\n",
       "Sex               0\n",
       "Age               0\n",
       "SibSp             0\n",
       "Parch             0\n",
       "Ticket            0\n",
       "Fare              0\n",
       "Cabin          1014\n",
       "Embarked          0\n",
       "dtype: int64"
      ]
     },
     "execution_count": 26,
     "metadata": {},
     "output_type": "execute_result"
    }
   ],
   "source": [
    "df[\"Age\"] = df[\"Age\"].fillna(df[\"Age\"].median())\n",
    "df[\"Embarked\"].fillna(df[\"Embarked\"].mode()[0], inplace = True)\n",
    "df[\"Fare\"]= df[\"Fare\"].fillna(df[\"Fare\"].mean())\n",
    "df.isnull().sum()"
   ]
  },
  {
   "cell_type": "code",
   "execution_count": 27,
   "id": "f8247339",
   "metadata": {},
   "outputs": [
    {
     "name": "stdout",
     "output_type": "stream",
     "text": [
      "Percentage of the missing values in Cabin attiribute: 77.46371275783041\n"
     ]
    }
   ],
   "source": [
    "missing_percentage_cabin= (df[\"Cabin\"].isnull().sum()/df.shape[0])*100\n",
    "print(f\"Percentage of the missing values in Cabin attiribute: {missing_percentage_cabin}\")"
   ]
  },
  {
   "cell_type": "markdown",
   "id": "cea745e8",
   "metadata": {},
   "source": [
    "Cabin have a %77 percent of missing values, So I will delete this attribute, because it's redundant."
   ]
  },
  {
   "cell_type": "code",
   "execution_count": 28,
   "id": "7f544801",
   "metadata": {},
   "outputs": [],
   "source": [
    "df.drop(columns=\"Cabin\", inplace=True)"
   ]
  },
  {
   "cell_type": "code",
   "execution_count": 29,
   "id": "b0521774",
   "metadata": {},
   "outputs": [
    {
     "data": {
      "text/plain": [
       "PassengerId      0\n",
       "Survived       418\n",
       "Pclass           0\n",
       "Name             0\n",
       "Sex              0\n",
       "Age              0\n",
       "SibSp            0\n",
       "Parch            0\n",
       "Ticket           0\n",
       "Fare             0\n",
       "Embarked         0\n",
       "dtype: int64"
      ]
     },
     "execution_count": 29,
     "metadata": {},
     "output_type": "execute_result"
    }
   ],
   "source": [
    "df.isnull().sum()"
   ]
  },
  {
   "cell_type": "markdown",
   "id": "e17eda32",
   "metadata": {},
   "source": [
    "## Handling with Outliers"
   ]
  },
  {
   "cell_type": "code",
   "execution_count": 30,
   "id": "499f350b",
   "metadata": {},
   "outputs": [
    {
     "data": {
      "text/plain": [
       "<AxesSubplot:xlabel='Fare'>"
      ]
     },
     "execution_count": 30,
     "metadata": {},
     "output_type": "execute_result"
    },
    {
     "data": {
      "image/png": "[encoded data removed]",
      "text/plain": [
       "<Figure size 432x288 with 1 Axes>"
      ]
     },
     "metadata": {
      "needs_background": "light"
     },
     "output_type": "display_data"
    }
   ],
   "source": [
    "sns.boxplot(data=df_train, x=\"Fare\")"
   ]
  },
  {
   "cell_type": "markdown",
   "id": "a25a5440",
   "metadata": {},
   "source": [
    "We can see the outliers in \"Fare\", but, titanic have a lot of choices for passengers fares and mostly people from the ship are in Pclass3 and mean value of fare is creating density in around 0-100 because of that, we are detecting outliers on boxplot. Shortly, these outliers can be and we can't describe them as an outliers.\n",
    "\n",
    "Also, we can explain the same situation for the \"Age\" feature, so, I will not examine it in outliers"
   ]
  },
  {
   "cell_type": "markdown",
   "id": "c2899b29",
   "metadata": {},
   "source": [
    "## Feature Transformation"
   ]
  },
  {
   "cell_type": "markdown",
   "id": "185fd0a0",
   "metadata": {},
   "source": [
    "In this subset, I'll create new features with existing features.\n",
    "\n",
    "In the EDA section, I said I will concatanete the \"SibSp\" and \"Parch\" to new feature \"Family\". Because, in totaly these two feature have the family numbers."
   ]
  },
  {
   "cell_type": "code",
   "execution_count": 31,
   "id": "cd2427f4",
   "metadata": {},
   "outputs": [
    {
     "data": {
      "text/html": [
       "<div>\n",
       "<style scoped>\n",
       "    .dataframe tbody tr th:only-of-type {\n",
       "        vertical-align: middle;\n",
       "    }\n",
       "\n",
       "    .dataframe tbody tr th {\n",
       "        vertical-align: top;\n",
       "    }\n",
       "\n",
       "    .dataframe thead th {\n",
       "        text-align: right;\n",
       "    }\n",
       "</style>\n",
       "<table border=\"1\" class=\"dataframe\">\n",
       "  <thead>\n",
       "    <tr style=\"text-align: right;\">\n",
       "      <th></th>\n",
       "      <th>PassengerId</th>\n",
       "      <th>Survived</th>\n",
       "      <th>Pclass</th>\n",
       "      <th>Name</th>\n",
       "      <th>Sex</th>\n",
       "      <th>Age</th>\n",
       "      <th>SibSp</th>\n",
       "      <th>Parch</th>\n",
       "      <th>Ticket</th>\n",
       "      <th>Fare</th>\n",
       "      <th>Embarked</th>\n",
       "      <th>Family</th>\n",
       "    </tr>\n",
       "  </thead>\n",
       "  <tbody>\n",
       "    <tr>\n",
       "      <th>0</th>\n",
       "      <td>1</td>\n",
       "      <td>0.0</td>\n",
       "      <td>3</td>\n",
       "      <td>Braund, Mr. Owen Harris</td>\n",
       "      <td>male</td>\n",
       "      <td>22.0</td>\n",
       "      <td>1</td>\n",
       "      <td>0</td>\n",
       "      <td>A/5 21171</td>\n",
       "      <td>7.2500</td>\n",
       "      <td>S</td>\n",
       "      <td>1</td>\n",
       "    </tr>\n",
       "    <tr>\n",
       "      <th>1</th>\n",
       "      <td>2</td>\n",
       "      <td>1.0</td>\n",
       "      <td>1</td>\n",
       "      <td>Cumings, Mrs. John Bradley (Florence Briggs Thayer)</td>\n",
       "      <td>female</td>\n",
       "      <td>38.0</td>\n",
       "      <td>1</td>\n",
       "      <td>0</td>\n",
       "      <td>PC 17599</td>\n",
       "      <td>71.2833</td>\n",
       "      <td>C</td>\n",
       "      <td>1</td>\n",
       "    </tr>\n",
       "    <tr>\n",
       "      <th>2</th>\n",
       "      <td>3</td>\n",
       "      <td>1.0</td>\n",
       "      <td>3</td>\n",
       "      <td>Heikkinen, Miss. Laina</td>\n",
       "      <td>female</td>\n",
       "      <td>26.0</td>\n",
       "      <td>0</td>\n",
       "      <td>0</td>\n",
       "      <td>STON/O2. 3101282</td>\n",
       "      <td>7.9250</td>\n",
       "      <td>S</td>\n",
       "      <td>0</td>\n",
       "    </tr>\n",
       "    <tr>\n",
       "      <th>3</th>\n",
       "      <td>4</td>\n",
       "      <td>1.0</td>\n",
       "      <td>1</td>\n",
       "      <td>Futrelle, Mrs. Jacques Heath (Lily May Peel)</td>\n",
       "      <td>female</td>\n",
       "      <td>35.0</td>\n",
       "      <td>1</td>\n",
       "      <td>0</td>\n",
       "      <td>113803</td>\n",
       "      <td>53.1000</td>\n",
       "      <td>S</td>\n",
       "      <td>1</td>\n",
       "    </tr>\n",
       "    <tr>\n",
       "      <th>4</th>\n",
       "      <td>5</td>\n",
       "      <td>0.0</td>\n",
       "      <td>3</td>\n",
       "      <td>Allen, Mr. William Henry</td>\n",
       "      <td>male</td>\n",
       "      <td>35.0</td>\n",
       "      <td>0</td>\n",
       "      <td>0</td>\n",
       "      <td>373450</td>\n",
       "      <td>8.0500</td>\n",
       "      <td>S</td>\n",
       "      <td>0</td>\n",
       "    </tr>\n",
       "  </tbody>\n",
       "</table>\n",
       "</div>"
      ],
      "text/plain": [
       "   PassengerId  Survived  Pclass  \\\n",
       "0            1       0.0       3   \n",
       "1            2       1.0       1   \n",
       "2            3       1.0       3   \n",
       "3            4       1.0       1   \n",
       "4            5       0.0       3   \n",
       "\n",
       "                                                  Name     Sex   Age  SibSp  \\\n",
       "0                              Braund, Mr. Owen Harris    male  22.0      1   \n",
       "1  Cumings, Mrs. John Bradley (Florence Briggs Thayer)  female  38.0      1   \n",
       "2                               Heikkinen, Miss. Laina  female  26.0      0   \n",
       "3         Futrelle, Mrs. Jacques Heath (Lily May Peel)  female  35.0      1   \n",
       "4                             Allen, Mr. William Henry    male  35.0      0   \n",
       "\n",
       "   Parch            Ticket     Fare Embarked  Family  \n",
       "0      0         A/5 21171   7.2500        S       1  \n",
       "1      0          PC 17599  71.2833        C       1  \n",
       "2      0  STON/O2. 3101282   7.9250        S       0  \n",
       "3      0            113803  53.1000        S       1  \n",
       "4      0            373450   8.0500        S       0  "
      ]
     },
     "metadata": {},
     "output_type": "display_data"
    },
    {
     "data": {
      "text/html": [
       "<div>\n",
       "<style scoped>\n",
       "    .dataframe tbody tr th:only-of-type {\n",
       "        vertical-align: middle;\n",
       "    }\n",
       "\n",
       "    .dataframe tbody tr th {\n",
       "        vertical-align: top;\n",
       "    }\n",
       "\n",
       "    .dataframe thead th {\n",
       "        text-align: right;\n",
       "    }\n",
       "</style>\n",
       "<table border=\"1\" class=\"dataframe\">\n",
       "  <thead>\n",
       "    <tr style=\"text-align: right;\">\n",
       "      <th></th>\n",
       "      <th>Sex</th>\n",
       "    </tr>\n",
       "    <tr>\n",
       "      <th>Family</th>\n",
       "      <th></th>\n",
       "    </tr>\n",
       "  </thead>\n",
       "  <tbody>\n",
       "    <tr>\n",
       "      <th>0</th>\n",
       "      <td>790</td>\n",
       "    </tr>\n",
       "    <tr>\n",
       "      <th>1</th>\n",
       "      <td>235</td>\n",
       "    </tr>\n",
       "    <tr>\n",
       "      <th>2</th>\n",
       "      <td>159</td>\n",
       "    </tr>\n",
       "    <tr>\n",
       "      <th>3</th>\n",
       "      <td>43</td>\n",
       "    </tr>\n",
       "    <tr>\n",
       "      <th>4</th>\n",
       "      <td>22</td>\n",
       "    </tr>\n",
       "    <tr>\n",
       "      <th>5</th>\n",
       "      <td>25</td>\n",
       "    </tr>\n",
       "    <tr>\n",
       "      <th>6</th>\n",
       "      <td>16</td>\n",
       "    </tr>\n",
       "    <tr>\n",
       "      <th>7</th>\n",
       "      <td>8</td>\n",
       "    </tr>\n",
       "    <tr>\n",
       "      <th>10</th>\n",
       "      <td>11</td>\n",
       "    </tr>\n",
       "  </tbody>\n",
       "</table>\n",
       "</div>"
      ],
      "text/plain": [
       "        Sex\n",
       "Family     \n",
       "0       790\n",
       "1       235\n",
       "2       159\n",
       "3        43\n",
       "4        22\n",
       "5        25\n",
       "6        16\n",
       "7         8\n",
       "10       11"
      ]
     },
     "metadata": {},
     "output_type": "display_data"
    }
   ],
   "source": [
    "df[\"Family\"]= df[\"SibSp\"]+df[\"Parch\"]\n",
    "display(df.head())\n",
    "display(df.groupby(\"Family\")[[\"Sex\"]].count())"
   ]
  },
  {
   "cell_type": "markdown",
   "id": "5f5bf25e",
   "metadata": {},
   "source": [
    "## Encoding"
   ]
  },
  {
   "cell_type": "markdown",
   "id": "0a1a7eef",
   "metadata": {},
   "source": [
    "- **Any machine learning algorithm**, whether it is a linear-regression or a KNN-utilizing Euclidean distance, requires numerical input features to learn from.\n",
    "- Categorical inputs cause the some errors and mostly machine learning algorithms don't know to work with the object inputs.\n",
    "\n",
    "There are several methods we can rely on to transform our categorical data into numerical data.\n",
    "\n",
    "We will use two of them:\n",
    "- Label Encoding\n",
    "- One-Hot Encoding\n",
    "\n",
    "This methods simply the convert object inputs to numerical input and in binary system.\n",
    "\n",
    "- We will use **label encoding for \"Sex\"** feature and it'll convert the female-male to 0-1.\n",
    "- For **Embarked feature we will use one-hot encoding** and we'll get 2 new columns with binary system.\n",
    "\n",
    "Note: While we implement encoding methods, We should care the **dummy variable trap**. But, what is the dummy variable trap?\n",
    "\n",
    "**The dummy variable trap** is when you have independent variables that are multicollinear, or highly correlated. Simply put, these variables can be predicted from each other. If we create two columns by \"Sex\" feature, female(0-1) and male(0-1) these two columns can be predicted from each other. So, we'll create just one column for \"Sex\" feature."
   ]
  },
  {
   "cell_type": "code",
   "execution_count": 32,
   "id": "3d55441c",
   "metadata": {},
   "outputs": [
    {
     "data": {
      "text/html": [
       "<div>\n",
       "<style scoped>\n",
       "    .dataframe tbody tr th:only-of-type {\n",
       "        vertical-align: middle;\n",
       "    }\n",
       "\n",
       "    .dataframe tbody tr th {\n",
       "        vertical-align: top;\n",
       "    }\n",
       "\n",
       "    .dataframe thead th {\n",
       "        text-align: right;\n",
       "    }\n",
       "</style>\n",
       "<table border=\"1\" class=\"dataframe\">\n",
       "  <thead>\n",
       "    <tr style=\"text-align: right;\">\n",
       "      <th></th>\n",
       "      <th>PassengerId</th>\n",
       "      <th>Survived</th>\n",
       "      <th>Pclass</th>\n",
       "      <th>Name</th>\n",
       "      <th>Sex</th>\n",
       "      <th>Age</th>\n",
       "      <th>SibSp</th>\n",
       "      <th>Parch</th>\n",
       "      <th>Ticket</th>\n",
       "      <th>Fare</th>\n",
       "      <th>Embarked</th>\n",
       "      <th>Family</th>\n",
       "    </tr>\n",
       "  </thead>\n",
       "  <tbody>\n",
       "    <tr>\n",
       "      <th>0</th>\n",
       "      <td>1</td>\n",
       "      <td>0.0</td>\n",
       "      <td>3</td>\n",
       "      <td>Braund, Mr. Owen Harris</td>\n",
       "      <td>1</td>\n",
       "      <td>22.0</td>\n",
       "      <td>1</td>\n",
       "      <td>0</td>\n",
       "      <td>A/5 21171</td>\n",
       "      <td>7.2500</td>\n",
       "      <td>S</td>\n",
       "      <td>1</td>\n",
       "    </tr>\n",
       "    <tr>\n",
       "      <th>1</th>\n",
       "      <td>2</td>\n",
       "      <td>1.0</td>\n",
       "      <td>1</td>\n",
       "      <td>Cumings, Mrs. John Bradley (Florence Briggs Thayer)</td>\n",
       "      <td>0</td>\n",
       "      <td>38.0</td>\n",
       "      <td>1</td>\n",
       "      <td>0</td>\n",
       "      <td>PC 17599</td>\n",
       "      <td>71.2833</td>\n",
       "      <td>C</td>\n",
       "      <td>1</td>\n",
       "    </tr>\n",
       "    <tr>\n",
       "      <th>2</th>\n",
       "      <td>3</td>\n",
       "      <td>1.0</td>\n",
       "      <td>3</td>\n",
       "      <td>Heikkinen, Miss. Laina</td>\n",
       "      <td>0</td>\n",
       "      <td>26.0</td>\n",
       "      <td>0</td>\n",
       "      <td>0</td>\n",
       "      <td>STON/O2. 3101282</td>\n",
       "      <td>7.9250</td>\n",
       "      <td>S</td>\n",
       "      <td>0</td>\n",
       "    </tr>\n",
       "    <tr>\n",
       "      <th>3</th>\n",
       "      <td>4</td>\n",
       "      <td>1.0</td>\n",
       "      <td>1</td>\n",
       "      <td>Futrelle, Mrs. Jacques Heath (Lily May Peel)</td>\n",
       "      <td>0</td>\n",
       "      <td>35.0</td>\n",
       "      <td>1</td>\n",
       "      <td>0</td>\n",
       "      <td>113803</td>\n",
       "      <td>53.1000</td>\n",
       "      <td>S</td>\n",
       "      <td>1</td>\n",
       "    </tr>\n",
       "    <tr>\n",
       "      <th>4</th>\n",
       "      <td>5</td>\n",
       "      <td>0.0</td>\n",
       "      <td>3</td>\n",
       "      <td>Allen, Mr. William Henry</td>\n",
       "      <td>1</td>\n",
       "      <td>35.0</td>\n",
       "      <td>0</td>\n",
       "      <td>0</td>\n",
       "      <td>373450</td>\n",
       "      <td>8.0500</td>\n",
       "      <td>S</td>\n",
       "      <td>0</td>\n",
       "    </tr>\n",
       "  </tbody>\n",
       "</table>\n",
       "</div>"
      ],
      "text/plain": [
       "   PassengerId  Survived  Pclass  \\\n",
       "0            1       0.0       3   \n",
       "1            2       1.0       1   \n",
       "2            3       1.0       3   \n",
       "3            4       1.0       1   \n",
       "4            5       0.0       3   \n",
       "\n",
       "                                                  Name  Sex   Age  SibSp  \\\n",
       "0                              Braund, Mr. Owen Harris    1  22.0      1   \n",
       "1  Cumings, Mrs. John Bradley (Florence Briggs Thayer)    0  38.0      1   \n",
       "2                               Heikkinen, Miss. Laina    0  26.0      0   \n",
       "3         Futrelle, Mrs. Jacques Heath (Lily May Peel)    0  35.0      1   \n",
       "4                             Allen, Mr. William Henry    1  35.0      0   \n",
       "\n",
       "   Parch            Ticket     Fare Embarked  Family  \n",
       "0      0         A/5 21171   7.2500        S       1  \n",
       "1      0          PC 17599  71.2833        C       1  \n",
       "2      0  STON/O2. 3101282   7.9250        S       0  \n",
       "3      0            113803  53.1000        S       1  \n",
       "4      0            373450   8.0500        S       0  "
      ]
     },
     "metadata": {},
     "output_type": "display_data"
    }
   ],
   "source": [
    "lbe=LabelEncoder()\n",
    "df[\"Sex\"] = lbe.fit_transform(df['Sex'])\n",
    "display(df.head())"
   ]
  },
  {
   "cell_type": "code",
   "execution_count": 33,
   "id": "23091a8d",
   "metadata": {},
   "outputs": [],
   "source": [
    "df = pd.get_dummies(data=df, prefix=[\"Embarked\"], columns=[\"Embarked\"], drop_first=True)\n",
    "# It is created dummy variables of \"Embarked\" features with one-hot encoding method. \n",
    "#For avoid the dummy variable trap, I used \"drop_first\", with this first column that I have created is deleted."
   ]
  },
  {
   "cell_type": "code",
   "execution_count": 34,
   "id": "207565d5",
   "metadata": {},
   "outputs": [
    {
     "data": {
      "text/html": [
       "<div>\n",
       "<style scoped>\n",
       "    .dataframe tbody tr th:only-of-type {\n",
       "        vertical-align: middle;\n",
       "    }\n",
       "\n",
       "    .dataframe tbody tr th {\n",
       "        vertical-align: top;\n",
       "    }\n",
       "\n",
       "    .dataframe thead th {\n",
       "        text-align: right;\n",
       "    }\n",
       "</style>\n",
       "<table border=\"1\" class=\"dataframe\">\n",
       "  <thead>\n",
       "    <tr style=\"text-align: right;\">\n",
       "      <th></th>\n",
       "      <th>PassengerId</th>\n",
       "      <th>Survived</th>\n",
       "      <th>Pclass</th>\n",
       "      <th>Name</th>\n",
       "      <th>Sex</th>\n",
       "      <th>Age</th>\n",
       "      <th>SibSp</th>\n",
       "      <th>Parch</th>\n",
       "      <th>Ticket</th>\n",
       "      <th>Fare</th>\n",
       "      <th>Family</th>\n",
       "      <th>Embarked_Q</th>\n",
       "      <th>Embarked_S</th>\n",
       "    </tr>\n",
       "  </thead>\n",
       "  <tbody>\n",
       "    <tr>\n",
       "      <th>0</th>\n",
       "      <td>1</td>\n",
       "      <td>0.0</td>\n",
       "      <td>3</td>\n",
       "      <td>Braund, Mr. Owen Harris</td>\n",
       "      <td>1</td>\n",
       "      <td>22.0</td>\n",
       "      <td>1</td>\n",
       "      <td>0</td>\n",
       "      <td>A/5 21171</td>\n",
       "      <td>7.2500</td>\n",
       "      <td>1</td>\n",
       "      <td>0</td>\n",
       "      <td>1</td>\n",
       "    </tr>\n",
       "    <tr>\n",
       "      <th>1</th>\n",
       "      <td>2</td>\n",
       "      <td>1.0</td>\n",
       "      <td>1</td>\n",
       "      <td>Cumings, Mrs. John Bradley (Florence Briggs Thayer)</td>\n",
       "      <td>0</td>\n",
       "      <td>38.0</td>\n",
       "      <td>1</td>\n",
       "      <td>0</td>\n",
       "      <td>PC 17599</td>\n",
       "      <td>71.2833</td>\n",
       "      <td>1</td>\n",
       "      <td>0</td>\n",
       "      <td>0</td>\n",
       "    </tr>\n",
       "    <tr>\n",
       "      <th>2</th>\n",
       "      <td>3</td>\n",
       "      <td>1.0</td>\n",
       "      <td>3</td>\n",
       "      <td>Heikkinen, Miss. Laina</td>\n",
       "      <td>0</td>\n",
       "      <td>26.0</td>\n",
       "      <td>0</td>\n",
       "      <td>0</td>\n",
       "      <td>STON/O2. 3101282</td>\n",
       "      <td>7.9250</td>\n",
       "      <td>0</td>\n",
       "      <td>0</td>\n",
       "      <td>1</td>\n",
       "    </tr>\n",
       "    <tr>\n",
       "      <th>3</th>\n",
       "      <td>4</td>\n",
       "      <td>1.0</td>\n",
       "      <td>1</td>\n",
       "      <td>Futrelle, Mrs. Jacques Heath (Lily May Peel)</td>\n",
       "      <td>0</td>\n",
       "      <td>35.0</td>\n",
       "      <td>1</td>\n",
       "      <td>0</td>\n",
       "      <td>113803</td>\n",
       "      <td>53.1000</td>\n",
       "      <td>1</td>\n",
       "      <td>0</td>\n",
       "      <td>1</td>\n",
       "    </tr>\n",
       "    <tr>\n",
       "      <th>4</th>\n",
       "      <td>5</td>\n",
       "      <td>0.0</td>\n",
       "      <td>3</td>\n",
       "      <td>Allen, Mr. William Henry</td>\n",
       "      <td>1</td>\n",
       "      <td>35.0</td>\n",
       "      <td>0</td>\n",
       "      <td>0</td>\n",
       "      <td>373450</td>\n",
       "      <td>8.0500</td>\n",
       "      <td>0</td>\n",
       "      <td>0</td>\n",
       "      <td>1</td>\n",
       "    </tr>\n",
       "  </tbody>\n",
       "</table>\n",
       "</div>"
      ],
      "text/plain": [
       "   PassengerId  Survived  Pclass  \\\n",
       "0            1       0.0       3   \n",
       "1            2       1.0       1   \n",
       "2            3       1.0       3   \n",
       "3            4       1.0       1   \n",
       "4            5       0.0       3   \n",
       "\n",
       "                                                  Name  Sex   Age  SibSp  \\\n",
       "0                              Braund, Mr. Owen Harris    1  22.0      1   \n",
       "1  Cumings, Mrs. John Bradley (Florence Briggs Thayer)    0  38.0      1   \n",
       "2                               Heikkinen, Miss. Laina    0  26.0      0   \n",
       "3         Futrelle, Mrs. Jacques Heath (Lily May Peel)    0  35.0      1   \n",
       "4                             Allen, Mr. William Henry    1  35.0      0   \n",
       "\n",
       "   Parch            Ticket     Fare  Family  Embarked_Q  Embarked_S  \n",
       "0      0         A/5 21171   7.2500       1           0           1  \n",
       "1      0          PC 17599  71.2833       1           0           0  \n",
       "2      0  STON/O2. 3101282   7.9250       0           0           1  \n",
       "3      0            113803  53.1000       1           0           1  \n",
       "4      0            373450   8.0500       0           0           1  "
      ]
     },
     "execution_count": 34,
     "metadata": {},
     "output_type": "execute_result"
    }
   ],
   "source": [
    "df.head()"
   ]
  },
  {
   "cell_type": "markdown",
   "id": "d8aa0d82",
   "metadata": {},
   "source": [
    "## Feature Selection"
   ]
  },
  {
   "cell_type": "markdown",
   "id": "a5cade0b",
   "metadata": {},
   "source": [
    "### Redundant Features"
   ]
  },
  {
   "cell_type": "markdown",
   "id": "15113169",
   "metadata": {},
   "source": [
    "**Name**➡ We don't need name feature as it cannot be converted into any categorical value. It include some titles(Mr,Mrs,Ms) of people but, we already have family feature.\n",
    "\n",
    "**Ticket**➡ It is any random string that cannot be categorised.\n",
    "\n",
    "**Cabin**➡ We already drop this feature because of the missing values\n",
    "\n",
    "**PassengerId**➡ Cannot be categorised."
   ]
  },
  {
   "cell_type": "code",
   "execution_count": 35,
   "id": "734201ad",
   "metadata": {},
   "outputs": [],
   "source": [
    "df.drop(columns=[\"Name\",\"Ticket\",\"PassengerId\"], inplace = True)"
   ]
  },
  {
   "cell_type": "markdown",
   "id": "cf6bc0da",
   "metadata": {},
   "source": [
    "### Selection with Correlation"
   ]
  },
  {
   "cell_type": "code",
   "execution_count": 37,
   "id": "6ba9409a",
   "metadata": {},
   "outputs": [
    {
     "data": {
      "text/plain": [
       "<AxesSubplot:>"
      ]
     },
     "execution_count": 37,
     "metadata": {},
     "output_type": "execute_result"
    },
    {
     "data": {
      "image/png": "[encoded data removed]",
      "text/plain": [
       "<Figure size 720x720 with 2 Axes>"
      ]
     },
     "metadata": {
      "needs_background": "light"
     },
     "output_type": "display_data"
    }
   ],
   "source": [
    "plt.figure(figsize=(10,10))\n",
    "sns.heatmap(df.corr(),annot=True,cmap='inferno',linewidths=.9)"
   ]
  },
  {
   "cell_type": "markdown",
   "id": "b676b348",
   "metadata": {},
   "source": [
    "**The first thing to note is that only the numeric features are compared as it is obvious that we cannot correlate between alphabets or strings.We analyze some correlations in the previous parts, for example, we said correlation between the Survived-Fare is 0.25. It's the same value in heatmap, it is 0.26 just rounded value of that we calculated. Wıth the heatmap we can analyze and get observations of whole data according to the correlations.**\n",
    "#### Observations from the heatmap:\n",
    " - **The maximum correleation numbers** in heatmap from the Family with Parch-SibSp because we create new feature as family using Parch and SibSp. Because of that, **there is multicollinearity, so I'll delete Parch and SibSp.**\n",
    " - Pclass and Fare has a good negative relation. Because when Pclass is increasing, passengers fares is decreasing. "
   ]
  },
  {
   "cell_type": "code",
   "execution_count": 38,
   "id": "02073f99",
   "metadata": {},
   "outputs": [],
   "source": [
    "df.drop(columns=[\"Parch\",\"SibSp\"], inplace = True)"
   ]
  },
  {
   "cell_type": "code",
   "execution_count": 39,
   "id": "d16596e8",
   "metadata": {},
   "outputs": [
    {
     "data": {
      "text/html": [
       "<div>\n",
       "<style scoped>\n",
       "    .dataframe tbody tr th:only-of-type {\n",
       "        vertical-align: middle;\n",
       "    }\n",
       "\n",
       "    .dataframe tbody tr th {\n",
       "        vertical-align: top;\n",
       "    }\n",
       "\n",
       "    .dataframe thead th {\n",
       "        text-align: right;\n",
       "    }\n",
       "</style>\n",
       "<table border=\"1\" class=\"dataframe\">\n",
       "  <thead>\n",
       "    <tr style=\"text-align: right;\">\n",
       "      <th></th>\n",
       "      <th>Survived</th>\n",
       "    </tr>\n",
       "  </thead>\n",
       "  <tbody>\n",
       "    <tr>\n",
       "      <th>Survived</th>\n",
       "      <td>1.000000</td>\n",
       "    </tr>\n",
       "    <tr>\n",
       "      <th>Pclass</th>\n",
       "      <td>-0.338481</td>\n",
       "    </tr>\n",
       "    <tr>\n",
       "      <th>Sex</th>\n",
       "      <td>-0.543351</td>\n",
       "    </tr>\n",
       "    <tr>\n",
       "      <th>Age</th>\n",
       "      <td>-0.064910</td>\n",
       "    </tr>\n",
       "    <tr>\n",
       "      <th>Fare</th>\n",
       "      <td>0.257307</td>\n",
       "    </tr>\n",
       "    <tr>\n",
       "      <th>Family</th>\n",
       "      <td>0.016639</td>\n",
       "    </tr>\n",
       "    <tr>\n",
       "      <th>Embarked_Q</th>\n",
       "      <td>0.003650</td>\n",
       "    </tr>\n",
       "    <tr>\n",
       "      <th>Embarked_S</th>\n",
       "      <td>-0.149683</td>\n",
       "    </tr>\n",
       "  </tbody>\n",
       "</table>\n",
       "</div>"
      ],
      "text/plain": [
       "            Survived\n",
       "Survived    1.000000\n",
       "Pclass     -0.338481\n",
       "Sex        -0.543351\n",
       "Age        -0.064910\n",
       "Fare        0.257307\n",
       "Family      0.016639\n",
       "Embarked_Q  0.003650\n",
       "Embarked_S -0.149683"
      ]
     },
     "execution_count": 39,
     "metadata": {},
     "output_type": "execute_result"
    }
   ],
   "source": [
    "df.corr()[[\"Survived\"]]"
   ]
  },
  {
   "cell_type": "markdown",
   "id": "1a9e4d46",
   "metadata": {},
   "source": [
    " - **Let's look at the \"Survived\" feature's correlation numbers**, when we look at the dependent variable's correlation numbers we want to strong relations because we care prediction. But, If we look at the correlations of \"Survived\", except the Pclass and Sex features almost all features have no correlation. Already we deleted a lot features, because of that I can't do anything with correlation numbers."
   ]
  },
  {
   "cell_type": "markdown",
   "id": "9933a34d",
   "metadata": {},
   "source": [
    "We did feature transformation and selection parts, so we can split the df into the train and test datasets again.\n",
    "\n"
   ]
  },
  {
   "cell_type": "code",
   "execution_count": 40,
   "id": "9b50a63c",
   "metadata": {},
   "outputs": [],
   "source": [
    "df_train = df[:df_train_len]\n",
    "df_test = df[df_train_len:]\n",
    "df_test.drop(labels=[\"Survived\"],axis = 1,inplace=True)"
   ]
  },
  {
   "cell_type": "code",
   "execution_count": 41,
   "id": "a76ff226",
   "metadata": {},
   "outputs": [],
   "source": [
    "df_train[\"Survived\"]=df_train[\"Survived\"].astype(\"int64\")"
   ]
  },
  {
   "cell_type": "code",
   "execution_count": 42,
   "id": "d989853f",
   "metadata": {},
   "outputs": [
    {
     "data": {
      "text/html": [
       "<div>\n",
       "<style scoped>\n",
       "    .dataframe tbody tr th:only-of-type {\n",
       "        vertical-align: middle;\n",
       "    }\n",
       "\n",
       "    .dataframe tbody tr th {\n",
       "        vertical-align: top;\n",
       "    }\n",
       "\n",
       "    .dataframe thead th {\n",
       "        text-align: right;\n",
       "    }\n",
       "</style>\n",
       "<table border=\"1\" class=\"dataframe\">\n",
       "  <thead>\n",
       "    <tr style=\"text-align: right;\">\n",
       "      <th></th>\n",
       "      <th>Survived</th>\n",
       "      <th>Pclass</th>\n",
       "      <th>Sex</th>\n",
       "      <th>Age</th>\n",
       "      <th>Fare</th>\n",
       "      <th>Family</th>\n",
       "      <th>Embarked_Q</th>\n",
       "      <th>Embarked_S</th>\n",
       "    </tr>\n",
       "  </thead>\n",
       "  <tbody>\n",
       "    <tr>\n",
       "      <th>0</th>\n",
       "      <td>0</td>\n",
       "      <td>3</td>\n",
       "      <td>1</td>\n",
       "      <td>22.0</td>\n",
       "      <td>7.2500</td>\n",
       "      <td>1</td>\n",
       "      <td>0</td>\n",
       "      <td>1</td>\n",
       "    </tr>\n",
       "    <tr>\n",
       "      <th>1</th>\n",
       "      <td>1</td>\n",
       "      <td>1</td>\n",
       "      <td>0</td>\n",
       "      <td>38.0</td>\n",
       "      <td>71.2833</td>\n",
       "      <td>1</td>\n",
       "      <td>0</td>\n",
       "      <td>0</td>\n",
       "    </tr>\n",
       "    <tr>\n",
       "      <th>2</th>\n",
       "      <td>1</td>\n",
       "      <td>3</td>\n",
       "      <td>0</td>\n",
       "      <td>26.0</td>\n",
       "      <td>7.9250</td>\n",
       "      <td>0</td>\n",
       "      <td>0</td>\n",
       "      <td>1</td>\n",
       "    </tr>\n",
       "    <tr>\n",
       "      <th>3</th>\n",
       "      <td>1</td>\n",
       "      <td>1</td>\n",
       "      <td>0</td>\n",
       "      <td>35.0</td>\n",
       "      <td>53.1000</td>\n",
       "      <td>1</td>\n",
       "      <td>0</td>\n",
       "      <td>1</td>\n",
       "    </tr>\n",
       "    <tr>\n",
       "      <th>4</th>\n",
       "      <td>0</td>\n",
       "      <td>3</td>\n",
       "      <td>1</td>\n",
       "      <td>35.0</td>\n",
       "      <td>8.0500</td>\n",
       "      <td>0</td>\n",
       "      <td>0</td>\n",
       "      <td>1</td>\n",
       "    </tr>\n",
       "  </tbody>\n",
       "</table>\n",
       "</div>"
      ],
      "text/plain": [
       "   Survived  Pclass  Sex   Age     Fare  Family  Embarked_Q  Embarked_S\n",
       "0         0       3    1  22.0   7.2500       1           0           1\n",
       "1         1       1    0  38.0  71.2833       1           0           0\n",
       "2         1       3    0  26.0   7.9250       0           0           1\n",
       "3         1       1    0  35.0  53.1000       1           0           1\n",
       "4         0       3    1  35.0   8.0500       0           0           1"
      ]
     },
     "execution_count": 42,
     "metadata": {},
     "output_type": "execute_result"
    }
   ],
   "source": [
    "df_train.head()"
   ]
  },
  {
   "cell_type": "code",
   "execution_count": 43,
   "id": "4bbe1573",
   "metadata": {},
   "outputs": [
    {
     "data": {
      "text/html": [
       "<div>\n",
       "<style scoped>\n",
       "    .dataframe tbody tr th:only-of-type {\n",
       "        vertical-align: middle;\n",
       "    }\n",
       "\n",
       "    .dataframe tbody tr th {\n",
       "        vertical-align: top;\n",
       "    }\n",
       "\n",
       "    .dataframe thead th {\n",
       "        text-align: right;\n",
       "    }\n",
       "</style>\n",
       "<table border=\"1\" class=\"dataframe\">\n",
       "  <thead>\n",
       "    <tr style=\"text-align: right;\">\n",
       "      <th></th>\n",
       "      <th>Pclass</th>\n",
       "      <th>Sex</th>\n",
       "      <th>Age</th>\n",
       "      <th>Fare</th>\n",
       "      <th>Family</th>\n",
       "      <th>Embarked_Q</th>\n",
       "      <th>Embarked_S</th>\n",
       "    </tr>\n",
       "  </thead>\n",
       "  <tbody>\n",
       "    <tr>\n",
       "      <th>891</th>\n",
       "      <td>3</td>\n",
       "      <td>1</td>\n",
       "      <td>34.5</td>\n",
       "      <td>7.8292</td>\n",
       "      <td>0</td>\n",
       "      <td>1</td>\n",
       "      <td>0</td>\n",
       "    </tr>\n",
       "    <tr>\n",
       "      <th>892</th>\n",
       "      <td>3</td>\n",
       "      <td>0</td>\n",
       "      <td>47.0</td>\n",
       "      <td>7.0000</td>\n",
       "      <td>1</td>\n",
       "      <td>0</td>\n",
       "      <td>1</td>\n",
       "    </tr>\n",
       "    <tr>\n",
       "      <th>893</th>\n",
       "      <td>2</td>\n",
       "      <td>1</td>\n",
       "      <td>62.0</td>\n",
       "      <td>9.6875</td>\n",
       "      <td>0</td>\n",
       "      <td>1</td>\n",
       "      <td>0</td>\n",
       "    </tr>\n",
       "    <tr>\n",
       "      <th>894</th>\n",
       "      <td>3</td>\n",
       "      <td>1</td>\n",
       "      <td>27.0</td>\n",
       "      <td>8.6625</td>\n",
       "      <td>0</td>\n",
       "      <td>0</td>\n",
       "      <td>1</td>\n",
       "    </tr>\n",
       "    <tr>\n",
       "      <th>895</th>\n",
       "      <td>3</td>\n",
       "      <td>0</td>\n",
       "      <td>22.0</td>\n",
       "      <td>12.2875</td>\n",
       "      <td>2</td>\n",
       "      <td>0</td>\n",
       "      <td>1</td>\n",
       "    </tr>\n",
       "  </tbody>\n",
       "</table>\n",
       "</div>"
      ],
      "text/plain": [
       "     Pclass  Sex   Age     Fare  Family  Embarked_Q  Embarked_S\n",
       "891       3    1  34.5   7.8292       0           1           0\n",
       "892       3    0  47.0   7.0000       1           0           1\n",
       "893       2    1  62.0   9.6875       0           1           0\n",
       "894       3    1  27.0   8.6625       0           0           1\n",
       "895       3    0  22.0  12.2875       2           0           1"
      ]
     },
     "execution_count": 43,
     "metadata": {},
     "output_type": "execute_result"
    }
   ],
   "source": [
    "df_test.head()"
   ]
  },
  {
   "cell_type": "markdown",
   "id": "902229b1",
   "metadata": {},
   "source": [
    "## Preparing of Train and Test Values"
   ]
  },
  {
   "cell_type": "code",
   "execution_count": 44,
   "id": "ebbce682",
   "metadata": {},
   "outputs": [],
   "source": [
    "y_train = df_train[\"Survived\"]\n",
    "X_train = df_train.drop(labels = [\"Survived\"],axis = 1)\n",
    "X_test = df_test"
   ]
  },
  {
   "cell_type": "markdown",
   "id": "dbbad763",
   "metadata": {},
   "source": [
    "## Feature Scaling"
   ]
  },
  {
   "cell_type": "markdown",
   "id": "4dbd737b",
   "metadata": {},
   "source": [
    "Some machine learning models rely on learning methods that are affected greatly by the scale of the data, meaning that if we have a column such as \"x\" that lives between 24 and 122, and an \"y\" column between 21 and 81, then our learning algorithms will not learn optimally.\n",
    "\n",
    "Normalization techniques are meant to level the playing field of data by ensuring that **all rows and columns are treated equally under the eyes of machine learning**.\n",
    "\n",
    "There are mainly three types of scaling:\n",
    "\n",
    "- Z-score standardization\n",
    "\n",
    "- Min-max scaling\n",
    "\n",
    "- Normalization\n",
    "\n",
    "I'll use normalization method ➡\n",
    "\n",
    "**Note:** No matter the scaling method, feature scaling always divides the feature by a constant (known as the normalization constant). Therefore, it does not change the shape of the single-feature distribution."
   ]
  },
  {
   "cell_type": "code",
   "execution_count": 67,
   "id": "03252a94",
   "metadata": {},
   "outputs": [
    {
     "data": {
      "text/plain": [
       "array([[0.12808793, 0.04269598, 0.93931146, ..., 0.04269598, 0.        ,\n",
       "        0.04269598],\n",
       "       [0.0123775 , 0.        , 0.47034498, ..., 0.0123775 , 0.        ,\n",
       "        0.        ],\n",
       "       [0.10963184, 0.        , 0.95014262, ..., 0.        , 0.        ,\n",
       "        0.03654395],\n",
       "       ...,\n",
       "       [0.08156203, 0.        , 0.76124558, ..., 0.08156203, 0.        ,\n",
       "        0.02718734],\n",
       "       [0.02517367, 0.02517367, 0.65451537, ..., 0.        , 0.        ,\n",
       "        0.        ],\n",
       "       [0.0906571 , 0.03021903, 0.96700902, ..., 0.        , 0.03021903,\n",
       "        0.        ]])"
      ]
     },
     "execution_count": 67,
     "metadata": {},
     "output_type": "execute_result"
    }
   ],
   "source": [
    "preprocessing.normalize(X_train)"
   ]
  },
  {
   "cell_type": "code",
   "execution_count": 68,
   "id": "9d5b41f5",
   "metadata": {},
   "outputs": [],
   "source": [
    "X_train = pd.DataFrame(X_train)"
   ]
  },
  {
   "cell_type": "markdown",
   "id": "63681c3b",
   "metadata": {},
   "source": [
    "# Model"
   ]
  },
  {
   "cell_type": "markdown",
   "id": "08a23449",
   "metadata": {},
   "source": [
    "## Base Model with Cross Validation"
   ]
  },
  {
   "cell_type": "code",
   "execution_count": 69,
   "id": "74d8a07a",
   "metadata": {},
   "outputs": [
    {
     "name": "stdout",
     "output_type": "stream",
     "text": [
      "[11:06:36] WARNING: /var/folders/sy/f16zz6x50xz3113nwtb9bvq00000gp/T/abs_44tbtwf8c1/croots/recipe/xgboost-split_1659548960882/work/src/learner.cc:1115: Starting in XGBoost 1.3.0, the default evaluation metric used with the objective 'binary:logistic' was changed from 'error' to 'logloss'. Explicitly set eval_metric if you'd like to restore the old behavior.\n"
     ]
    },
    {
     "name": "stderr",
     "output_type": "stream",
     "text": [
      "/Users/rayan/opt/anaconda3/lib/python3.9/site-packages/sklearn/neural_network/_multilayer_perceptron.py:692: ConvergenceWarning: Stochastic Optimizer: Maximum iterations (200) reached and the optimization hasn't converged yet.\n",
      "  warnings.warn(\n",
      "/Users/rayan/opt/anaconda3/lib/python3.9/site-packages/xgboost/sklearn.py:1224: UserWarning: The use of label encoder in XGBClassifier is deprecated and will be removed in a future release. To remove this warning, do the following: 1) Pass option use_label_encoder=False when constructing XGBClassifier object; and 2) Encode your labels (y) as integers starting with 0, i.e. 0, 1, 2, ..., [num_class - 1].\n",
      "  warnings.warn(label_encoder_deprecation_msg, UserWarning)\n",
      "/Users/rayan/opt/anaconda3/lib/python3.9/site-packages/xgboost/data.py:250: FutureWarning: pandas.Int64Index is deprecated and will be removed from pandas in a future version. Use pandas.Index with the appropriate dtype instead.\n",
      "  elif isinstance(data.columns, (pd.Int64Index, pd.RangeIndex)):\n",
      "/Users/rayan/opt/anaconda3/lib/python3.9/site-packages/xgboost/sklearn.py:1224: UserWarning: The use of label encoder in XGBClassifier is deprecated and will be removed in a future release. To remove this warning, do the following: 1) Pass option use_label_encoder=False when constructing XGBClassifier object; and 2) Encode your labels (y) as integers starting with 0, i.e. 0, 1, 2, ..., [num_class - 1].\n",
      "  warnings.warn(label_encoder_deprecation_msg, UserWarning)\n",
      "/Users/rayan/opt/anaconda3/lib/python3.9/site-packages/xgboost/data.py:250: FutureWarning: pandas.Int64Index is deprecated and will be removed from pandas in a future version. Use pandas.Index with the appropriate dtype instead.\n",
      "  elif isinstance(data.columns, (pd.Int64Index, pd.RangeIndex)):\n",
      "/Users/rayan/opt/anaconda3/lib/python3.9/site-packages/xgboost/sklearn.py:1224: UserWarning: The use of label encoder in XGBClassifier is deprecated and will be removed in a future release. To remove this warning, do the following: 1) Pass option use_label_encoder=False when constructing XGBClassifier object; and 2) Encode your labels (y) as integers starting with 0, i.e. 0, 1, 2, ..., [num_class - 1].\n",
      "  warnings.warn(label_encoder_deprecation_msg, UserWarning)\n",
      "/Users/rayan/opt/anaconda3/lib/python3.9/site-packages/xgboost/data.py:250: FutureWarning: pandas.Int64Index is deprecated and will be removed from pandas in a future version. Use pandas.Index with the appropriate dtype instead.\n",
      "  elif isinstance(data.columns, (pd.Int64Index, pd.RangeIndex)):\n",
      "/Users/rayan/opt/anaconda3/lib/python3.9/site-packages/xgboost/sklearn.py:1224: UserWarning: The use of label encoder in XGBClassifier is deprecated and will be removed in a future release. To remove this warning, do the following: 1) Pass option use_label_encoder=False when constructing XGBClassifier object; and 2) Encode your labels (y) as integers starting with 0, i.e. 0, 1, 2, ..., [num_class - 1].\n",
      "  warnings.warn(label_encoder_deprecation_msg, UserWarning)\n",
      "/Users/rayan/opt/anaconda3/lib/python3.9/site-packages/xgboost/data.py:250: FutureWarning: pandas.Int64Index is deprecated and will be removed from pandas in a future version. Use pandas.Index with the appropriate dtype instead.\n",
      "  elif isinstance(data.columns, (pd.Int64Index, pd.RangeIndex)):\n",
      "/Users/rayan/opt/anaconda3/lib/python3.9/site-packages/xgboost/sklearn.py:1224: UserWarning: The use of label encoder in XGBClassifier is deprecated and will be removed in a future release. To remove this warning, do the following: 1) Pass option use_label_encoder=False when constructing XGBClassifier object; and 2) Encode your labels (y) as integers starting with 0, i.e. 0, 1, 2, ..., [num_class - 1].\n",
      "  warnings.warn(label_encoder_deprecation_msg, UserWarning)\n",
      "/Users/rayan/opt/anaconda3/lib/python3.9/site-packages/xgboost/data.py:250: FutureWarning: pandas.Int64Index is deprecated and will be removed from pandas in a future version. Use pandas.Index with the appropriate dtype instead.\n",
      "  elif isinstance(data.columns, (pd.Int64Index, pd.RangeIndex)):\n",
      "/Users/rayan/opt/anaconda3/lib/python3.9/site-packages/xgboost/sklearn.py:1224: UserWarning: The use of label encoder in XGBClassifier is deprecated and will be removed in a future release. To remove this warning, do the following: 1) Pass option use_label_encoder=False when constructing XGBClassifier object; and 2) Encode your labels (y) as integers starting with 0, i.e. 0, 1, 2, ..., [num_class - 1].\n",
      "  warnings.warn(label_encoder_deprecation_msg, UserWarning)\n",
      "/Users/rayan/opt/anaconda3/lib/python3.9/site-packages/xgboost/data.py:250: FutureWarning: pandas.Int64Index is deprecated and will be removed from pandas in a future version. Use pandas.Index with the appropriate dtype instead.\n",
      "  elif isinstance(data.columns, (pd.Int64Index, pd.RangeIndex)):\n",
      "/Users/rayan/opt/anaconda3/lib/python3.9/site-packages/xgboost/sklearn.py:1224: UserWarning: The use of label encoder in XGBClassifier is deprecated and will be removed in a future release. To remove this warning, do the following: 1) Pass option use_label_encoder=False when constructing XGBClassifier object; and 2) Encode your labels (y) as integers starting with 0, i.e. 0, 1, 2, ..., [num_class - 1].\n",
      "  warnings.warn(label_encoder_deprecation_msg, UserWarning)\n",
      "/Users/rayan/opt/anaconda3/lib/python3.9/site-packages/xgboost/data.py:250: FutureWarning: pandas.Int64Index is deprecated and will be removed from pandas in a future version. Use pandas.Index with the appropriate dtype instead.\n",
      "  elif isinstance(data.columns, (pd.Int64Index, pd.RangeIndex)):\n",
      "/Users/rayan/opt/anaconda3/lib/python3.9/site-packages/xgboost/sklearn.py:1224: UserWarning: The use of label encoder in XGBClassifier is deprecated and will be removed in a future release. To remove this warning, do the following: 1) Pass option use_label_encoder=False when constructing XGBClassifier object; and 2) Encode your labels (y) as integers starting with 0, i.e. 0, 1, 2, ..., [num_class - 1].\n",
      "  warnings.warn(label_encoder_deprecation_msg, UserWarning)\n",
      "/Users/rayan/opt/anaconda3/lib/python3.9/site-packages/xgboost/data.py:250: FutureWarning: pandas.Int64Index is deprecated and will be removed from pandas in a future version. Use pandas.Index with the appropriate dtype instead.\n",
      "  elif isinstance(data.columns, (pd.Int64Index, pd.RangeIndex)):\n",
      "/Users/rayan/opt/anaconda3/lib/python3.9/site-packages/xgboost/sklearn.py:1224: UserWarning: The use of label encoder in XGBClassifier is deprecated and will be removed in a future release. To remove this warning, do the following: 1) Pass option use_label_encoder=False when constructing XGBClassifier object; and 2) Encode your labels (y) as integers starting with 0, i.e. 0, 1, 2, ..., [num_class - 1].\n",
      "  warnings.warn(label_encoder_deprecation_msg, UserWarning)\n",
      "/Users/rayan/opt/anaconda3/lib/python3.9/site-packages/xgboost/data.py:250: FutureWarning: pandas.Int64Index is deprecated and will be removed from pandas in a future version. Use pandas.Index with the appropriate dtype instead.\n",
      "  elif isinstance(data.columns, (pd.Int64Index, pd.RangeIndex)):\n",
      "/Users/rayan/opt/anaconda3/lib/python3.9/site-packages/xgboost/sklearn.py:1224: UserWarning: The use of label encoder in XGBClassifier is deprecated and will be removed in a future release. To remove this warning, do the following: 1) Pass option use_label_encoder=False when constructing XGBClassifier object; and 2) Encode your labels (y) as integers starting with 0, i.e. 0, 1, 2, ..., [num_class - 1].\n",
      "  warnings.warn(label_encoder_deprecation_msg, UserWarning)\n",
      "/Users/rayan/opt/anaconda3/lib/python3.9/site-packages/xgboost/data.py:250: FutureWarning: pandas.Int64Index is deprecated and will be removed from pandas in a future version. Use pandas.Index with the appropriate dtype instead.\n",
      "  elif isinstance(data.columns, (pd.Int64Index, pd.RangeIndex)):\n"
     ]
    },
    {
     "data": {
      "text/html": [
       "<div>\n",
       "<style scoped>\n",
       "    .dataframe tbody tr th:only-of-type {\n",
       "        vertical-align: middle;\n",
       "    }\n",
       "\n",
       "    .dataframe tbody tr th {\n",
       "        vertical-align: top;\n",
       "    }\n",
       "\n",
       "    .dataframe thead th {\n",
       "        text-align: right;\n",
       "    }\n",
       "</style>\n",
       "<table border=\"1\" class=\"dataframe\">\n",
       "  <thead>\n",
       "    <tr style=\"text-align: right;\">\n",
       "      <th></th>\n",
       "      <th>Model</th>\n",
       "      <th>Mean Accuracy</th>\n",
       "    </tr>\n",
       "  </thead>\n",
       "  <tbody>\n",
       "    <tr>\n",
       "      <th>0</th>\n",
       "      <td>Logistic</td>\n",
       "      <td>0.690350</td>\n",
       "    </tr>\n",
       "    <tr>\n",
       "      <th>1</th>\n",
       "      <td>Knn</td>\n",
       "      <td>0.759875</td>\n",
       "    </tr>\n",
       "    <tr>\n",
       "      <th>2</th>\n",
       "      <td>DecisionTree</td>\n",
       "      <td>0.684769</td>\n",
       "    </tr>\n",
       "    <tr>\n",
       "      <th>3</th>\n",
       "      <td>MLP</td>\n",
       "      <td>0.744145</td>\n",
       "    </tr>\n",
       "    <tr>\n",
       "      <th>4</th>\n",
       "      <td>GaussianNB</td>\n",
       "      <td>0.715081</td>\n",
       "    </tr>\n",
       "    <tr>\n",
       "      <th>5</th>\n",
       "      <td>SupportVectorMachine</td>\n",
       "      <td>0.674632</td>\n",
       "    </tr>\n",
       "    <tr>\n",
       "      <th>6</th>\n",
       "      <td>AdaBoost</td>\n",
       "      <td>0.759863</td>\n",
       "    </tr>\n",
       "    <tr>\n",
       "      <th>7</th>\n",
       "      <td>RandomForest</td>\n",
       "      <td>0.793533</td>\n",
       "    </tr>\n",
       "    <tr>\n",
       "      <th>8</th>\n",
       "      <td>ExtraTrees</td>\n",
       "      <td>0.786804</td>\n",
       "    </tr>\n",
       "    <tr>\n",
       "      <th>9</th>\n",
       "      <td>GradientBoost</td>\n",
       "      <td>0.809226</td>\n",
       "    </tr>\n",
       "    <tr>\n",
       "      <th>10</th>\n",
       "      <td>Xgboost</td>\n",
       "      <td>0.792347</td>\n",
       "    </tr>\n",
       "  </tbody>\n",
       "</table>\n",
       "</div>"
      ],
      "text/plain": [
       "                   Model  Mean Accuracy\n",
       "0               Logistic       0.690350\n",
       "1                    Knn       0.759875\n",
       "2           DecisionTree       0.684769\n",
       "3                    MLP       0.744145\n",
       "4             GaussianNB       0.715081\n",
       "5   SupportVectorMachine       0.674632\n",
       "6               AdaBoost       0.759863\n",
       "7           RandomForest       0.793533\n",
       "8             ExtraTrees       0.786804\n",
       "9          GradientBoost       0.809226\n",
       "10               Xgboost       0.792347"
      ]
     },
     "execution_count": 69,
     "metadata": {},
     "output_type": "execute_result"
    }
   ],
   "source": [
    "kfold = StratifiedKFold(n_splits=10)\n",
    "random_state = 6\n",
    "\n",
    "logistic_model = LogisticRegression(solver='lbfgs', max_iter=400,random_state=random_state).fit(X_train,y_train)\n",
    "knn_model = KNeighborsClassifier().fit(X_train, y_train)\n",
    "decision_model = DecisionTreeClassifier(random_state=random_state).fit(X_train,y_train)\n",
    "mlp_model = MLPClassifier(random_state=random_state).fit(X_train, y_train)\n",
    "gaussian_model = GaussianNB().fit(X_train, y_train)\n",
    "linear_svm_model = SVC(kernel='linear').fit(X_train,y_train)\n",
    "adaboost_model = AdaBoostClassifier(DecisionTreeClassifier(random_state=random_state),random_state=random_state, learning_rate=0.1).fit(X_train,y_train)\n",
    "randomforest_model = RandomForestClassifier(random_state=random_state).fit(X_train,y_train)\n",
    "extra_model = ExtraTreesClassifier(random_state=random_state).fit(X_train,y_train)\n",
    "gb_model = GradientBoostingClassifier(random_state=random_state).fit(X_train,y_train)\n",
    "xgb_model = xgb.XGBClassifier().fit(X_train,y_train)\n",
    "\n",
    "model_names = [\"Logistic\",\"Knn\",\"DecisionTree\",\"MLP\",\"GaussianNB\",\"SupportVectorMachine\",\"AdaBoost\",\"RandomForest\",\"ExtraTrees\",\"GradientBoost\",\"Xgboost\"]\n",
    "model_list = [logistic_model,decision_model,mlp_model,knn_model,gaussian_model,linear_svm_model,adaboost_model,randomforest_model,extra_model,gb_model,xgb_model]\n",
    "results = []\n",
    "for i in model_list:\n",
    "    result = cross_val_score(i, X_train, y_train, scoring = \"accuracy\", cv = kfold, n_jobs=4)\n",
    "    results.append(result.mean())\n",
    "\n",
    "acc_of_models = {\"Model\": model_names, \"Mean Accuracy\": results}    \n",
    "acc_of_models = pd.DataFrame(acc_of_models)\n",
    "acc_of_models"
   ]
  },
  {
   "cell_type": "code",
   "execution_count": 71,
   "id": "7f74617d",
   "metadata": {},
   "outputs": [
    {
     "data": {
      "text/plain": [
       "Text(0.5, 1.0, 'Feature Importance in RandomForests')"
      ]
     },
     "execution_count": 71,
     "metadata": {},
     "output_type": "execute_result"
    },
    {
     "data": {
      "image/png": "[encoded data removed]",
      "text/plain": [
       "<Figure size 1080x720 with 4 Axes>"
      ]
     },
     "metadata": {
      "needs_background": "light"
     },
     "output_type": "display_data"
    }
   ],
   "source": [
    "f,ax =plt.subplots(2,2, figsize = (15,10))\n",
    "\n",
    "pd.Series(gb_model.feature_importances_,X_train.columns).sort_values(ascending=True).plot.barh(width=0.8,color='#800080',ax=ax[0,0])\n",
    "ax[0,0].set_title('Feature Importance in Gradient Boosting')\n",
    "pd.Series(xgb_model.feature_importances_,X_train.columns).sort_values(ascending=True).plot.barh(width=0.8,color='#FF00FF',ax=ax[0,1])\n",
    "ax[0,1].set_title('Feature Importance in XGBoost')\n",
    "pd.Series(randomforest_model.feature_importances_,X_train.columns).sort_values(ascending=True).plot.barh(width=0.8,color='#FFFF00',ax=ax[1,1])\n",
    "ax[1,1].set_title('Feature Importance in RandomForests')"
   ]
  },
  {
   "cell_type": "code",
   "execution_count": 72,
   "id": "b8f63931",
   "metadata": {},
   "outputs": [
    {
     "data": {
      "text/plain": [
       "<AxesSubplot:xlabel='Mean Accuracy', ylabel='Model'>"
      ]
     },
     "execution_count": 72,
     "metadata": {},
     "output_type": "execute_result"
    },
    {
     "data": {
      "image/png": "[encoded data removed]",
      "text/plain": [
       "<Figure size 432x288 with 1 Axes>"
      ]
     },
     "metadata": {
      "needs_background": "light"
     },
     "output_type": "display_data"
    }
   ],
   "source": [
    "sns.barplot(data=acc_of_models, x=\"Mean Accuracy\", y=\"Model\")"
   ]
  },
  {
   "cell_type": "markdown",
   "id": "836aa57d",
   "metadata": {},
   "source": [
    "We fit 10 types of classification and ensemble models with Kfold(n=10) cross validation.\n",
    "\n",
    "So, we get the **best mean accuracy** from the **\"GradientBoosting\" with %83 and it's the good value for the base model**\n",
    "\n",
    "#### Let's into the \"HyperParemeter Tuning\" with \"GradientBoostingClassifier\"."
   ]
  },
  {
   "cell_type": "markdown",
   "id": "5a7c494b",
   "metadata": {},
   "source": [
    "## Hyper Parameter Tunning with GridSearchCV"
   ]
  },
  {
   "cell_type": "code",
   "execution_count": 74,
   "id": "3d9d590d",
   "metadata": {},
   "outputs": [],
   "source": [
    "#GBC = GradientBoostingClassifier()\n",
    "#gbc_params = {\n",
    "              #'n_estimators' : [100,200,500,1000],\n",
    "              #'learning_rate': [0.1,0.01,0.001],\n",
    "              #'max_depth': [2,3,7],\n",
    "              #'min_samples_split':[2,10,50,100],\n",
    "              #'min_samples_leaf': [1,5,7],\n",
    "              #'max_features': [0.3, 0.1] \n",
    "              #}\n",
    "#gradient_tuned = GridSearchCV(GBC,gbc_params, cv=kfold, scoring=\"accuracy\", n_jobs= 4, verbose = 1).fit(X_train,y_train)\n",
    "#print(f\"Best parameters for the Gradient Boosting Model: {gradient_tuned.best_params_}\")"
   ]
  },
  {
   "cell_type": "markdown",
   "id": "459f7efe",
   "metadata": {},
   "source": [
    "- Best parameters for the Gradient Boosting Model: {'learning_rate': 0.1, 'max_depth': 7, 'max_features': 0.3, 'min_samples_leaf': 7, 'min_samples_split': 2, 'n_estimators': 100}\n",
    "- We get best params, because of that I close the code of the hyper parameter tuning with \"#\". It takes so much time."
   ]
  },
  {
   "cell_type": "code",
   "execution_count": 75,
   "id": "7327b0b4",
   "metadata": {},
   "outputs": [
    {
     "name": "stdout",
     "output_type": "stream",
     "text": [
      "Fitting 10 folds for each of 1 candidates, totalling 10 fits\n",
      "Gradient Boosting Best Accuracy Score: 0.7991260923845193\n"
     ]
    }
   ],
   "source": [
    "GBC = GradientBoostingClassifier(random_state=6)\n",
    "gbc_params = {'learning_rate': [0.1], 'max_depth': [7], 'max_features': [0.3], 'min_samples_leaf': [7], 'min_samples_split': [2], 'n_estimators': [100]}\n",
    "gradient_tuned = GridSearchCV(GBC,gbc_params , cv=kfold, scoring=\"accuracy\", n_jobs= 4, verbose = 1).fit(X_train,y_train)\n",
    "print(f\"Gradient Boosting Best Accuracy Score: {gradient_tuned.best_score_}\")\n",
    "y_pred = gradient_tuned.predict(X_test)"
   ]
  },
  {
   "cell_type": "code",
   "execution_count": 76,
   "id": "404ce647",
   "metadata": {},
   "outputs": [],
   "source": [
    "submission_3 = pd.read_csv(\"gender_submission.csv\")"
   ]
  },
  {
   "cell_type": "code",
   "execution_count": 77,
   "id": "36c44b30",
   "metadata": {},
   "outputs": [
    {
     "data": {
      "text/html": [
       "<div>\n",
       "<style scoped>\n",
       "    .dataframe tbody tr th:only-of-type {\n",
       "        vertical-align: middle;\n",
       "    }\n",
       "\n",
       "    .dataframe tbody tr th {\n",
       "        vertical-align: top;\n",
       "    }\n",
       "\n",
       "    .dataframe thead th {\n",
       "        text-align: right;\n",
       "    }\n",
       "</style>\n",
       "<table border=\"1\" class=\"dataframe\">\n",
       "  <thead>\n",
       "    <tr style=\"text-align: right;\">\n",
       "      <th></th>\n",
       "      <th>PassengerId</th>\n",
       "    </tr>\n",
       "  </thead>\n",
       "  <tbody>\n",
       "    <tr>\n",
       "      <th>0</th>\n",
       "      <td>892</td>\n",
       "    </tr>\n",
       "    <tr>\n",
       "      <th>1</th>\n",
       "      <td>893</td>\n",
       "    </tr>\n",
       "    <tr>\n",
       "      <th>2</th>\n",
       "      <td>894</td>\n",
       "    </tr>\n",
       "    <tr>\n",
       "      <th>3</th>\n",
       "      <td>895</td>\n",
       "    </tr>\n",
       "    <tr>\n",
       "      <th>4</th>\n",
       "      <td>896</td>\n",
       "    </tr>\n",
       "  </tbody>\n",
       "</table>\n",
       "</div>"
      ],
      "text/plain": [
       "   PassengerId\n",
       "0          892\n",
       "1          893\n",
       "2          894\n",
       "3          895\n",
       "4          896"
      ]
     },
     "execution_count": 77,
     "metadata": {},
     "output_type": "execute_result"
    }
   ],
   "source": [
    "submission_3[[\"PassengerId\"]].head()"
   ]
  },
  {
   "cell_type": "code",
   "execution_count": 78,
   "id": "3cad361d",
   "metadata": {},
   "outputs": [
    {
     "data": {
      "text/html": [
       "<div>\n",
       "<style scoped>\n",
       "    .dataframe tbody tr th:only-of-type {\n",
       "        vertical-align: middle;\n",
       "    }\n",
       "\n",
       "    .dataframe tbody tr th {\n",
       "        vertical-align: top;\n",
       "    }\n",
       "\n",
       "    .dataframe thead th {\n",
       "        text-align: right;\n",
       "    }\n",
       "</style>\n",
       "<table border=\"1\" class=\"dataframe\">\n",
       "  <thead>\n",
       "    <tr style=\"text-align: right;\">\n",
       "      <th></th>\n",
       "      <th>Survived</th>\n",
       "    </tr>\n",
       "  </thead>\n",
       "  <tbody>\n",
       "    <tr>\n",
       "      <th>0</th>\n",
       "      <td>0</td>\n",
       "    </tr>\n",
       "    <tr>\n",
       "      <th>1</th>\n",
       "      <td>0</td>\n",
       "    </tr>\n",
       "    <tr>\n",
       "      <th>2</th>\n",
       "      <td>0</td>\n",
       "    </tr>\n",
       "    <tr>\n",
       "      <th>3</th>\n",
       "      <td>1</td>\n",
       "    </tr>\n",
       "    <tr>\n",
       "      <th>4</th>\n",
       "      <td>0</td>\n",
       "    </tr>\n",
       "  </tbody>\n",
       "</table>\n",
       "</div>"
      ],
      "text/plain": [
       "   Survived\n",
       "0         0\n",
       "1         0\n",
       "2         0\n",
       "3         1\n",
       "4         0"
      ]
     },
     "execution_count": 78,
     "metadata": {},
     "output_type": "execute_result"
    }
   ],
   "source": [
    "y_pred = pd.DataFrame(y_pred, columns = [\"Survived\"])\n",
    "y_pred.head()"
   ]
  },
  {
   "cell_type": "code",
   "execution_count": 79,
   "id": "0a85391a",
   "metadata": {},
   "outputs": [],
   "source": [
    "submission_last = pd.concat([submission_3[[\"PassengerId\"]],y_pred],axis=1)"
   ]
  },
  {
   "cell_type": "code",
   "execution_count": 80,
   "id": "818d60ae",
   "metadata": {},
   "outputs": [
    {
     "data": {
      "text/html": [
       "<div>\n",
       "<style scoped>\n",
       "    .dataframe tbody tr th:only-of-type {\n",
       "        vertical-align: middle;\n",
       "    }\n",
       "\n",
       "    .dataframe tbody tr th {\n",
       "        vertical-align: top;\n",
       "    }\n",
       "\n",
       "    .dataframe thead th {\n",
       "        text-align: right;\n",
       "    }\n",
       "</style>\n",
       "<table border=\"1\" class=\"dataframe\">\n",
       "  <thead>\n",
       "    <tr style=\"text-align: right;\">\n",
       "      <th></th>\n",
       "      <th>PassengerId</th>\n",
       "      <th>Survived</th>\n",
       "    </tr>\n",
       "  </thead>\n",
       "  <tbody>\n",
       "    <tr>\n",
       "      <th>0</th>\n",
       "      <td>892</td>\n",
       "      <td>0</td>\n",
       "    </tr>\n",
       "    <tr>\n",
       "      <th>1</th>\n",
       "      <td>893</td>\n",
       "      <td>0</td>\n",
       "    </tr>\n",
       "    <tr>\n",
       "      <th>2</th>\n",
       "      <td>894</td>\n",
       "      <td>0</td>\n",
       "    </tr>\n",
       "    <tr>\n",
       "      <th>3</th>\n",
       "      <td>895</td>\n",
       "      <td>1</td>\n",
       "    </tr>\n",
       "    <tr>\n",
       "      <th>4</th>\n",
       "      <td>896</td>\n",
       "      <td>0</td>\n",
       "    </tr>\n",
       "  </tbody>\n",
       "</table>\n",
       "</div>"
      ],
      "text/plain": [
       "   PassengerId  Survived\n",
       "0          892         0\n",
       "1          893         0\n",
       "2          894         0\n",
       "3          895         1\n",
       "4          896         0"
      ]
     },
     "execution_count": 80,
     "metadata": {},
     "output_type": "execute_result"
    }
   ],
   "source": [
    "submission_last.head()"
   ]
  },
  {
   "cell_type": "code",
   "execution_count": 81,
   "id": "c1b27cac",
   "metadata": {},
   "outputs": [],
   "source": [
    "submission_last.to_csv('submission_3.csv',index=False)"
   ]
  },
  {
   "cell_type": "code",
   "execution_count": null,
   "id": "1ad311dc",
   "metadata": {},
   "outputs": [],
   "source": []
  }
 ],
 "metadata": {
  "kernelspec": {
   "display_name": "Python 3 (ipykernel)",
   "language": "python",
   "name": "python3"
  },
  "language_info": {
   "codemirror_mode": {
    "name": "ipython",
    "version": 3
   },
   "file_extension": ".py",
   "mimetype": "text/x-python",
   "name": "python",
   "nbconvert_exporter": "python",
   "pygments_lexer": "ipython3",
   "version": "3.9.12"
  }
 },
 "nbformat": 4,
 "nbformat_minor": 5
}
